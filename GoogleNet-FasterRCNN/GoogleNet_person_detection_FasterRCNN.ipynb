{
  "metadata": {
    "kernelspec": {
      "display_name": "Python 3",
      "name": "python3"
    },
    "language_info": {
      "name": "python",
      "version": "3.10.10",
      "mimetype": "text/x-python",
      "codemirror_mode": {
        "name": "ipython",
        "version": 3
      },
      "pygments_lexer": "ipython3",
      "nbconvert_exporter": "python",
      "file_extension": ".py"
    },
    "colab": {
      "provenance": [],
      "gpuType": "T4"
    },
    "accelerator": "GPU"
  },
  "nbformat_minor": 0,
  "nbformat": 4,
  "cells": [
    {
      "cell_type": "markdown",
      "source": [
        "# Setup"
      ],
      "metadata": {
        "id": "U055PmX3IKgm"
      }
    },
    {
      "cell_type": "code",
      "source": [
        "!pip install fiftyone"
      ],
      "metadata": {
        "id": "UluSUjYd9Wle",
        "colab": {
          "base_uri": "https://localhost:8080/"
        },
        "outputId": "093af2cc-da5a-4300-fdcd-ec225ff106d7"
      },
      "execution_count": null,
      "outputs": [
        {
          "output_type": "stream",
          "name": "stdout",
          "text": [
            "Looking in indexes: https://pypi.org/simple, https://us-python.pkg.dev/colab-wheels/public/simple/\n",
            "Collecting fiftyone\n",
            "  Downloading fiftyone-0.21.0-py3-none-any.whl (7.6 MB)\n",
            "\u001b[2K     \u001b[90m━━━━━━━━━━━━━━━━━━━━━━━━━━━━━━━━━━━━━━━━\u001b[0m \u001b[32m7.6/7.6 MB\u001b[0m \u001b[31m59.1 MB/s\u001b[0m eta \u001b[36m0:00:00\u001b[0m\n",
            "\u001b[?25hCollecting aiofiles (from fiftyone)\n",
            "  Downloading aiofiles-23.1.0-py3-none-any.whl (14 kB)\n",
            "Collecting argcomplete (from fiftyone)\n",
            "  Downloading argcomplete-3.0.8-py3-none-any.whl (40 kB)\n",
            "\u001b[2K     \u001b[90m━━━━━━━━━━━━━━━━━━━━━━━━━━━━━━━━━━━━━━━━\u001b[0m \u001b[32m40.0/40.0 kB\u001b[0m \u001b[31m4.9 MB/s\u001b[0m eta \u001b[36m0:00:00\u001b[0m\n",
            "\u001b[?25hCollecting boto3 (from fiftyone)\n",
            "  Downloading boto3-1.26.149-py3-none-any.whl (135 kB)\n",
            "\u001b[2K     \u001b[90m━━━━━━━━━━━━━━━━━━━━━━━━━━━━━━━━━━━━━━\u001b[0m \u001b[32m135.6/135.6 kB\u001b[0m \u001b[31m20.1 MB/s\u001b[0m eta \u001b[36m0:00:00\u001b[0m\n",
            "\u001b[?25hRequirement already satisfied: cachetools in /usr/local/lib/python3.10/dist-packages (from fiftyone) (5.3.0)\n",
            "Collecting dacite<1.8.0,>=1.6.0 (from fiftyone)\n",
            "  Downloading dacite-1.7.0-py3-none-any.whl (12 kB)\n",
            "Collecting Deprecated (from fiftyone)\n",
            "  Downloading Deprecated-1.2.14-py2.py3-none-any.whl (9.6 kB)\n",
            "Collecting eventlet (from fiftyone)\n",
            "  Downloading eventlet-0.33.3-py2.py3-none-any.whl (226 kB)\n",
            "\u001b[2K     \u001b[90m━━━━━━━━━━━━━━━━━━━━━━━━━━━━━━━━━━━━━━\u001b[0m \u001b[32m226.8/226.8 kB\u001b[0m \u001b[31m27.9 MB/s\u001b[0m eta \u001b[36m0:00:00\u001b[0m\n",
            "\u001b[?25hCollecting ftfy (from fiftyone)\n",
            "  Downloading ftfy-6.1.1-py3-none-any.whl (53 kB)\n",
            "\u001b[2K     \u001b[90m━━━━━━━━━━━━━━━━━━━━━━━━━━━━━━━━━━━━━━━━\u001b[0m \u001b[32m53.1/53.1 kB\u001b[0m \u001b[31m7.3 MB/s\u001b[0m eta \u001b[36m0:00:00\u001b[0m\n",
            "\u001b[?25hRequirement already satisfied: future in /usr/local/lib/python3.10/dist-packages (from fiftyone) (0.18.3)\n",
            "Collecting hypercorn>=0.13.2 (from fiftyone)\n",
            "  Downloading Hypercorn-0.14.3-py3-none-any.whl (57 kB)\n",
            "\u001b[2K     \u001b[90m━━━━━━━━━━━━━━━━━━━━━━━━━━━━━━━━━━━━━━━━\u001b[0m \u001b[32m57.9/57.9 kB\u001b[0m \u001b[31m8.0 MB/s\u001b[0m eta \u001b[36m0:00:00\u001b[0m\n",
            "\u001b[?25hRequirement already satisfied: Jinja2>=3 in /usr/local/lib/python3.10/dist-packages (from fiftyone) (3.1.2)\n",
            "Collecting kaleido (from fiftyone)\n",
            "  Downloading kaleido-0.2.1-py2.py3-none-manylinux1_x86_64.whl (79.9 MB)\n",
            "\u001b[2K     \u001b[90m━━━━━━━━━━━━━━━━━━━━━━━━━━━━━━━━━━━━━━━━\u001b[0m \u001b[32m79.9/79.9 MB\u001b[0m \u001b[31m11.4 MB/s\u001b[0m eta \u001b[36m0:00:00\u001b[0m\n",
            "\u001b[?25hRequirement already satisfied: matplotlib in /usr/local/lib/python3.10/dist-packages (from fiftyone) (3.7.1)\n",
            "Collecting mongoengine==0.24.2 (from fiftyone)\n",
            "  Downloading mongoengine-0.24.2-py3-none-any.whl (108 kB)\n",
            "\u001b[2K     \u001b[90m━━━━━━━━━━━━━━━━━━━━━━━━━━━━━━━━━━━━━━\u001b[0m \u001b[32m108.9/108.9 kB\u001b[0m \u001b[31m14.5 MB/s\u001b[0m eta \u001b[36m0:00:00\u001b[0m\n",
            "\u001b[?25hCollecting motor>=2.5 (from fiftyone)\n",
            "  Downloading motor-3.1.2-py3-none-any.whl (56 kB)\n",
            "\u001b[2K     \u001b[90m━━━━━━━━━━━━━━━━━━━━━━━━━━━━━━━━━━━━━━━━\u001b[0m \u001b[32m56.5/56.5 kB\u001b[0m \u001b[31m7.8 MB/s\u001b[0m eta \u001b[36m0:00:00\u001b[0m\n",
            "\u001b[?25hRequirement already satisfied: numpy in /usr/local/lib/python3.10/dist-packages (from fiftyone) (1.22.4)\n",
            "Requirement already satisfied: packaging in /usr/local/lib/python3.10/dist-packages (from fiftyone) (23.1)\n",
            "Requirement already satisfied: pandas in /usr/local/lib/python3.10/dist-packages (from fiftyone) (1.5.3)\n",
            "Requirement already satisfied: Pillow>=6.2 in /usr/local/lib/python3.10/dist-packages (from fiftyone) (8.4.0)\n",
            "Requirement already satisfied: plotly>=4.14 in /usr/local/lib/python3.10/dist-packages (from fiftyone) (5.13.1)\n",
            "Collecting pprintpp (from fiftyone)\n",
            "  Downloading pprintpp-0.4.0-py2.py3-none-any.whl (16 kB)\n",
            "Requirement already satisfied: psutil in /usr/local/lib/python3.10/dist-packages (from fiftyone) (5.9.5)\n",
            "Collecting pymongo>=3.12 (from fiftyone)\n",
            "  Downloading pymongo-4.3.3-cp310-cp310-manylinux_2_17_x86_64.manylinux2014_x86_64.whl (492 kB)\n",
            "\u001b[2K     \u001b[90m━━━━━━━━━━━━━━━━━━━━━━━━━━━━━━━━━━━━━━\u001b[0m \u001b[32m492.9/492.9 kB\u001b[0m \u001b[31m32.0 MB/s\u001b[0m eta \u001b[36m0:00:00\u001b[0m\n",
            "\u001b[?25hRequirement already satisfied: pytz in /usr/local/lib/python3.10/dist-packages (from fiftyone) (2022.7.1)\n",
            "Requirement already satisfied: PyYAML in /usr/local/lib/python3.10/dist-packages (from fiftyone) (6.0)\n",
            "Requirement already satisfied: regex in /usr/local/lib/python3.10/dist-packages (from fiftyone) (2022.10.31)\n",
            "Collecting retrying (from fiftyone)\n",
            "  Downloading retrying-1.3.4-py3-none-any.whl (11 kB)\n",
            "Requirement already satisfied: scikit-learn in /usr/local/lib/python3.10/dist-packages (from fiftyone) (1.2.2)\n",
            "Requirement already satisfied: scikit-image in /usr/local/lib/python3.10/dist-packages (from fiftyone) (0.19.3)\n",
            "Requirement already satisfied: setuptools in /usr/local/lib/python3.10/dist-packages (from fiftyone) (67.7.2)\n",
            "Collecting sseclient-py<2,>=1.7.2 (from fiftyone)\n",
            "  Downloading sseclient_py-1.7.2-py2.py3-none-any.whl (8.4 kB)\n",
            "Collecting sse-starlette<1,>=0.10.3 (from fiftyone)\n",
            "  Downloading sse_starlette-0.10.3-py3-none-any.whl (8.0 kB)\n",
            "Collecting starlette<0.27,>=0.24.0 (from fiftyone)\n",
            "  Downloading starlette-0.26.1-py3-none-any.whl (66 kB)\n",
            "\u001b[2K     \u001b[90m━━━━━━━━━━━━━━━━━━━━━━━━━━━━━━━━━━━━━━━━\u001b[0m \u001b[32m66.9/66.9 kB\u001b[0m \u001b[31m9.3 MB/s\u001b[0m eta \u001b[36m0:00:00\u001b[0m\n",
            "\u001b[?25hCollecting strawberry-graphql==0.138.1 (from fiftyone)\n",
            "  Downloading strawberry_graphql-0.138.1-py3-none-any.whl (192 kB)\n",
            "\u001b[2K     \u001b[90m━━━━━━━━━━━━━━━━━━━━━━━━━━━━━━━━━━━━━━\u001b[0m \u001b[32m192.5/192.5 kB\u001b[0m \u001b[31m25.0 MB/s\u001b[0m eta \u001b[36m0:00:00\u001b[0m\n",
            "\u001b[?25hRequirement already satisfied: tabulate in /usr/local/lib/python3.10/dist-packages (from fiftyone) (0.8.10)\n",
            "Collecting xmltodict (from fiftyone)\n",
            "  Downloading xmltodict-0.13.0-py2.py3-none-any.whl (10.0 kB)\n",
            "Collecting universal-analytics-python3<2,>=1.0.1 (from fiftyone)\n",
            "  Downloading universal_analytics_python3-1.1.1-py3-none-any.whl (10 kB)\n",
            "Collecting fiftyone-brain<0.13,>=0.12 (from fiftyone)\n",
            "  Downloading fiftyone_brain-0.12.0-py3-none-any.whl (69 kB)\n",
            "\u001b[2K     \u001b[90m━━━━━━━━━━━━━━━━━━━━━━━━━━━━━━━━━━━━━━━━\u001b[0m \u001b[32m69.2/69.2 kB\u001b[0m \u001b[31m3.9 MB/s\u001b[0m eta \u001b[36m0:00:00\u001b[0m\n",
            "\u001b[?25hCollecting fiftyone-db<0.5,>=0.4 (from fiftyone)\n",
            "  Downloading fiftyone_db-0.4.0-py3-none-manylinux1_x86_64.whl (37.8 MB)\n",
            "\u001b[2K     \u001b[90m━━━━━━━━━━━━━━━━━━━━━━━━━━━━━━━━━━━━━━━━\u001b[0m \u001b[32m37.8/37.8 MB\u001b[0m \u001b[31m19.2 MB/s\u001b[0m eta \u001b[36m0:00:00\u001b[0m\n",
            "\u001b[?25hCollecting voxel51-eta<0.11,>=0.10 (from fiftyone)\n",
            "  Downloading voxel51_eta-0.10.0-py2.py3-none-any.whl (568 kB)\n",
            "\u001b[2K     \u001b[90m━━━━━━━━━━━━━━━━━━━━━━━━━━━━━━━━━━━━━━\u001b[0m \u001b[32m568.9/568.9 kB\u001b[0m \u001b[31m47.8 MB/s\u001b[0m eta \u001b[36m0:00:00\u001b[0m\n",
            "\u001b[?25hRequirement already satisfied: opencv-python-headless in /usr/local/lib/python3.10/dist-packages (from fiftyone) (4.7.0.72)\n",
            "Collecting graphql-core<3.3.0,>=3.2.0 (from strawberry-graphql==0.138.1->fiftyone)\n",
            "  Downloading graphql_core-3.2.3-py3-none-any.whl (202 kB)\n",
            "\u001b[2K     \u001b[90m━━━━━━━━━━━━━━━━━━━━━━━━━━━━━━━━━━━━━━\u001b[0m \u001b[32m202.9/202.9 kB\u001b[0m \u001b[31m19.2 MB/s\u001b[0m eta \u001b[36m0:00:00\u001b[0m\n",
            "\u001b[?25hRequirement already satisfied: python-dateutil<3.0.0,>=2.7.0 in /usr/local/lib/python3.10/dist-packages (from strawberry-graphql==0.138.1->fiftyone) (2.8.2)\n",
            "Requirement already satisfied: typing_extensions<5.0.0,>=3.7.4 in /usr/local/lib/python3.10/dist-packages (from strawberry-graphql==0.138.1->fiftyone) (4.5.0)\n",
            "Requirement already satisfied: scipy>=1.2.0 in /usr/local/lib/python3.10/dist-packages (from fiftyone-brain<0.13,>=0.12->fiftyone) (1.10.1)\n",
            "Collecting h11 (from hypercorn>=0.13.2->fiftyone)\n",
            "  Downloading h11-0.14.0-py3-none-any.whl (58 kB)\n",
            "\u001b[2K     \u001b[90m━━━━━━━━━━━━━━━━━━━━━━━━━━━━━━━━━━━━━━━━\u001b[0m \u001b[32m58.3/58.3 kB\u001b[0m \u001b[31m7.3 MB/s\u001b[0m eta \u001b[36m0:00:00\u001b[0m\n",
            "\u001b[?25hCollecting h2>=3.1.0 (from hypercorn>=0.13.2->fiftyone)\n",
            "  Downloading h2-4.1.0-py3-none-any.whl (57 kB)\n",
            "\u001b[2K     \u001b[90m━━━━━━━━━━━━━━━━━━━━━━━━━━━━━━━━━━━━━━━━\u001b[0m \u001b[32m57.5/57.5 kB\u001b[0m \u001b[31m7.8 MB/s\u001b[0m eta \u001b[36m0:00:00\u001b[0m\n",
            "\u001b[?25hCollecting priority (from hypercorn>=0.13.2->fiftyone)\n",
            "  Downloading priority-2.0.0-py3-none-any.whl (8.9 kB)\n",
            "Requirement already satisfied: toml in /usr/local/lib/python3.10/dist-packages (from hypercorn>=0.13.2->fiftyone) (0.10.2)\n",
            "Collecting wsproto>=0.14.0 (from hypercorn>=0.13.2->fiftyone)\n",
            "  Downloading wsproto-1.2.0-py3-none-any.whl (24 kB)\n",
            "Requirement already satisfied: MarkupSafe>=2.0 in /usr/local/lib/python3.10/dist-packages (from Jinja2>=3->fiftyone) (2.1.2)\n",
            "Requirement already satisfied: tenacity>=6.2.0 in /usr/local/lib/python3.10/dist-packages (from plotly>=4.14->fiftyone) (8.2.2)\n",
            "Collecting dnspython<3.0.0,>=1.16.0 (from pymongo>=3.12->fiftyone)\n",
            "  Downloading dnspython-2.3.0-py3-none-any.whl (283 kB)\n",
            "\u001b[2K     \u001b[90m━━━━━━━━━━━━━━━━━━━━━━━━━━━━━━━━━━━━━━\u001b[0m \u001b[32m283.7/283.7 kB\u001b[0m \u001b[31m39.9 MB/s\u001b[0m eta \u001b[36m0:00:00\u001b[0m\n",
            "\u001b[?25hRequirement already satisfied: anyio<5,>=3.4.0 in /usr/local/lib/python3.10/dist-packages (from starlette<0.27,>=0.24.0->fiftyone) (3.6.2)\n",
            "Collecting httpx>=0.10.0 (from universal-analytics-python3<2,>=1.0.1->fiftyone)\n",
            "  Downloading httpx-0.24.1-py3-none-any.whl (75 kB)\n",
            "\u001b[2K     \u001b[90m━━━━━━━━━━━━━━━━━━━━━━━━━━━━━━━━━━━━━━━━\u001b[0m \u001b[32m75.4/75.4 kB\u001b[0m \u001b[31m10.2 MB/s\u001b[0m eta \u001b[36m0:00:00\u001b[0m\n",
            "\u001b[?25hCollecting dill (from voxel51-eta<0.11,>=0.10->fiftyone)\n",
            "  Downloading dill-0.3.6-py3-none-any.whl (110 kB)\n",
            "\u001b[2K     \u001b[90m━━━━━━━━━━━━━━━━━━━━━━━━━━━━━━━━━━━━━━\u001b[0m \u001b[32m110.5/110.5 kB\u001b[0m \u001b[31m16.1 MB/s\u001b[0m eta \u001b[36m0:00:00\u001b[0m\n",
            "\u001b[?25hRequirement already satisfied: glob2 in /usr/local/lib/python3.10/dist-packages (from voxel51-eta<0.11,>=0.10->fiftyone) (0.7)\n",
            "Collecting jsonlines (from voxel51-eta<0.11,>=0.10->fiftyone)\n",
            "  Downloading jsonlines-3.1.0-py3-none-any.whl (8.6 kB)\n",
            "Collecting py7zr (from voxel51-eta<0.11,>=0.10->fiftyone)\n",
            "  Downloading py7zr-0.20.5-py3-none-any.whl (66 kB)\n",
            "\u001b[2K     \u001b[90m━━━━━━━━━━━━━━━━━━━━━━━━━━━━━━━━━━━━━━━━\u001b[0m \u001b[32m66.4/66.4 kB\u001b[0m \u001b[31m9.8 MB/s\u001b[0m eta \u001b[36m0:00:00\u001b[0m\n",
            "\u001b[?25hCollecting rarfile (from voxel51-eta<0.11,>=0.10->fiftyone)\n",
            "  Downloading rarfile-4.0-py3-none-any.whl (28 kB)\n",
            "Requirement already satisfied: requests in /usr/local/lib/python3.10/dist-packages (from voxel51-eta<0.11,>=0.10->fiftyone) (2.27.1)\n",
            "Requirement already satisfied: six in /usr/local/lib/python3.10/dist-packages (from voxel51-eta<0.11,>=0.10->fiftyone) (1.16.0)\n",
            "Requirement already satisfied: sortedcontainers in /usr/local/lib/python3.10/dist-packages (from voxel51-eta<0.11,>=0.10->fiftyone) (2.4.0)\n",
            "Requirement already satisfied: tzlocal in /usr/local/lib/python3.10/dist-packages (from voxel51-eta<0.11,>=0.10->fiftyone) (4.3)\n",
            "Requirement already satisfied: urllib3 in /usr/local/lib/python3.10/dist-packages (from voxel51-eta<0.11,>=0.10->fiftyone) (1.26.15)\n",
            "Collecting botocore<1.30.0,>=1.29.149 (from boto3->fiftyone)\n",
            "  Downloading botocore-1.29.149-py3-none-any.whl (10.8 MB)\n",
            "\u001b[2K     \u001b[90m━━━━━━━━━━━━━━━━━━━━━━━━━━━━━━━━━━━━━━━\u001b[0m \u001b[32m10.8/10.8 MB\u001b[0m \u001b[31m108.6 MB/s\u001b[0m eta \u001b[36m0:00:00\u001b[0m\n",
            "\u001b[?25hCollecting jmespath<2.0.0,>=0.7.1 (from boto3->fiftyone)\n",
            "  Downloading jmespath-1.0.1-py3-none-any.whl (20 kB)\n",
            "Collecting s3transfer<0.7.0,>=0.6.0 (from boto3->fiftyone)\n",
            "  Downloading s3transfer-0.6.1-py3-none-any.whl (79 kB)\n",
            "\u001b[2K     \u001b[90m━━━━━━━━━━━━━━━━━━━━━━━━━━━━━━━━━━━━━━━━\u001b[0m \u001b[32m79.8/79.8 kB\u001b[0m \u001b[31m11.9 MB/s\u001b[0m eta \u001b[36m0:00:00\u001b[0m\n",
            "\u001b[?25hRequirement already satisfied: wrapt<2,>=1.10 in /usr/local/lib/python3.10/dist-packages (from Deprecated->fiftyone) (1.14.1)\n",
            "Requirement already satisfied: greenlet>=0.3 in /usr/local/lib/python3.10/dist-packages (from eventlet->fiftyone) (2.0.2)\n",
            "Requirement already satisfied: wcwidth>=0.2.5 in /usr/local/lib/python3.10/dist-packages (from ftfy->fiftyone) (0.2.6)\n",
            "Requirement already satisfied: contourpy>=1.0.1 in /usr/local/lib/python3.10/dist-packages (from matplotlib->fiftyone) (1.0.7)\n",
            "Requirement already satisfied: cycler>=0.10 in /usr/local/lib/python3.10/dist-packages (from matplotlib->fiftyone) (0.11.0)\n",
            "Requirement already satisfied: fonttools>=4.22.0 in /usr/local/lib/python3.10/dist-packages (from matplotlib->fiftyone) (4.39.3)\n",
            "Requirement already satisfied: kiwisolver>=1.0.1 in /usr/local/lib/python3.10/dist-packages (from matplotlib->fiftyone) (1.4.4)\n",
            "Requirement already satisfied: pyparsing>=2.3.1 in /usr/local/lib/python3.10/dist-packages (from matplotlib->fiftyone) (3.0.9)\n",
            "Requirement already satisfied: networkx>=2.2 in /usr/local/lib/python3.10/dist-packages (from scikit-image->fiftyone) (3.1)\n",
            "Requirement already satisfied: imageio>=2.4.1 in /usr/local/lib/python3.10/dist-packages (from scikit-image->fiftyone) (2.25.1)\n",
            "Requirement already satisfied: tifffile>=2019.7.26 in /usr/local/lib/python3.10/dist-packages (from scikit-image->fiftyone) (2023.4.12)\n",
            "Requirement already satisfied: PyWavelets>=1.1.1 in /usr/local/lib/python3.10/dist-packages (from scikit-image->fiftyone) (1.4.1)\n",
            "Requirement already satisfied: joblib>=1.1.1 in /usr/local/lib/python3.10/dist-packages (from scikit-learn->fiftyone) (1.2.0)\n",
            "Requirement already satisfied: threadpoolctl>=2.0.0 in /usr/local/lib/python3.10/dist-packages (from scikit-learn->fiftyone) (3.1.0)\n",
            "Requirement already satisfied: idna>=2.8 in /usr/local/lib/python3.10/dist-packages (from anyio<5,>=3.4.0->starlette<0.27,>=0.24.0->fiftyone) (3.4)\n",
            "Requirement already satisfied: sniffio>=1.1 in /usr/local/lib/python3.10/dist-packages (from anyio<5,>=3.4.0->starlette<0.27,>=0.24.0->fiftyone) (1.3.0)\n",
            "Collecting hyperframe<7,>=6.0 (from h2>=3.1.0->hypercorn>=0.13.2->fiftyone)\n",
            "  Downloading hyperframe-6.0.1-py3-none-any.whl (12 kB)\n",
            "Collecting hpack<5,>=4.0 (from h2>=3.1.0->hypercorn>=0.13.2->fiftyone)\n",
            "  Downloading hpack-4.0.0-py3-none-any.whl (32 kB)\n",
            "Requirement already satisfied: certifi in /usr/local/lib/python3.10/dist-packages (from httpx>=0.10.0->universal-analytics-python3<2,>=1.0.1->fiftyone) (2022.12.7)\n",
            "Collecting httpcore<0.18.0,>=0.15.0 (from httpx>=0.10.0->universal-analytics-python3<2,>=1.0.1->fiftyone)\n",
            "  Downloading httpcore-0.17.2-py3-none-any.whl (72 kB)\n",
            "\u001b[2K     \u001b[90m━━━━━━━━━━━━━━━━━━━━━━━━━━━━━━━━━━━━━━━━\u001b[0m \u001b[32m72.5/72.5 kB\u001b[0m \u001b[31m10.1 MB/s\u001b[0m eta \u001b[36m0:00:00\u001b[0m\n",
            "\u001b[?25hRequirement already satisfied: attrs>=19.2.0 in /usr/local/lib/python3.10/dist-packages (from jsonlines->voxel51-eta<0.11,>=0.10->fiftyone) (23.1.0)\n",
            "Collecting texttable (from py7zr->voxel51-eta<0.11,>=0.10->fiftyone)\n",
            "  Downloading texttable-1.6.7-py2.py3-none-any.whl (10 kB)\n",
            "Collecting pycryptodomex>=3.6.6 (from py7zr->voxel51-eta<0.11,>=0.10->fiftyone)\n",
            "  Downloading pycryptodomex-3.18.0-cp35-abi3-manylinux_2_17_x86_64.manylinux2014_x86_64.whl (2.1 MB)\n",
            "\u001b[2K     \u001b[90m━━━━━━━━━━━━━━━━━━━━━━━━━━━━━━━━━━━━━━━━\u001b[0m \u001b[32m2.1/2.1 MB\u001b[0m \u001b[31m98.8 MB/s\u001b[0m eta \u001b[36m0:00:00\u001b[0m\n",
            "\u001b[?25hCollecting pyzstd>=0.14.4 (from py7zr->voxel51-eta<0.11,>=0.10->fiftyone)\n",
            "  Downloading pyzstd-0.15.7-cp310-cp310-manylinux_2_17_x86_64.manylinux2014_x86_64.whl (399 kB)\n",
            "\u001b[2K     \u001b[90m━━━━━━━━━━━━━━━━━━━━━━━━━━━━━━━━━━━━━━\u001b[0m \u001b[32m399.3/399.3 kB\u001b[0m \u001b[31m31.2 MB/s\u001b[0m eta \u001b[36m0:00:00\u001b[0m\n",
            "\u001b[?25hCollecting pyppmd<1.1.0,>=0.18.1 (from py7zr->voxel51-eta<0.11,>=0.10->fiftyone)\n",
            "  Downloading pyppmd-1.0.0-cp310-cp310-manylinux_2_17_x86_64.manylinux2014_x86_64.whl (138 kB)\n",
            "\u001b[2K     \u001b[90m━━━━━━━━━━━━━━━━━━━━━━━━━━━━━━━━━━━━━━\u001b[0m \u001b[32m138.8/138.8 kB\u001b[0m \u001b[31m20.9 MB/s\u001b[0m eta \u001b[36m0:00:00\u001b[0m\n",
            "\u001b[?25hCollecting pybcj>=0.6.0 (from py7zr->voxel51-eta<0.11,>=0.10->fiftyone)\n",
            "  Downloading pybcj-1.0.1-cp310-cp310-manylinux_2_17_x86_64.manylinux2014_x86_64.whl (49 kB)\n",
            "\u001b[2K     \u001b[90m━━━━━━━━━━━━━━━━━━━━━━━━━━━━━━━━━━━━━━━━\u001b[0m \u001b[32m49.8/49.8 kB\u001b[0m \u001b[31m7.1 MB/s\u001b[0m eta \u001b[36m0:00:00\u001b[0m\n",
            "\u001b[?25hCollecting multivolumefile>=0.2.3 (from py7zr->voxel51-eta<0.11,>=0.10->fiftyone)\n",
            "  Downloading multivolumefile-0.2.3-py3-none-any.whl (17 kB)\n",
            "Collecting brotli>=1.0.9 (from py7zr->voxel51-eta<0.11,>=0.10->fiftyone)\n",
            "  Downloading Brotli-1.0.9-cp310-cp310-manylinux_2_5_x86_64.manylinux1_x86_64.manylinux_2_12_x86_64.manylinux2010_x86_64.whl (2.7 MB)\n",
            "\u001b[2K     \u001b[90m━━━━━━━━━━━━━━━━━━━━━━━━━━━━━━━━━━━━━━━━\u001b[0m \u001b[32m2.7/2.7 MB\u001b[0m \u001b[31m93.6 MB/s\u001b[0m eta \u001b[36m0:00:00\u001b[0m\n",
            "\u001b[?25hCollecting inflate64>=0.3.1 (from py7zr->voxel51-eta<0.11,>=0.10->fiftyone)\n",
            "  Downloading inflate64-0.3.1-cp310-cp310-manylinux_2_17_x86_64.manylinux2014_x86_64.whl (93 kB)\n",
            "\u001b[2K     \u001b[90m━━━━━━━━━━━━━━━━━━━━━━━━━━━━━━━━━━━━━━━━\u001b[0m \u001b[32m93.1/93.1 kB\u001b[0m \u001b[31m13.4 MB/s\u001b[0m eta \u001b[36m0:00:00\u001b[0m\n",
            "\u001b[?25hRequirement already satisfied: charset-normalizer~=2.0.0 in /usr/local/lib/python3.10/dist-packages (from requests->voxel51-eta<0.11,>=0.10->fiftyone) (2.0.12)\n",
            "Requirement already satisfied: pytz-deprecation-shim in /usr/local/lib/python3.10/dist-packages (from tzlocal->voxel51-eta<0.11,>=0.10->fiftyone) (0.1.0.post0)\n",
            "Requirement already satisfied: tzdata in /usr/local/lib/python3.10/dist-packages (from pytz-deprecation-shim->tzlocal->voxel51-eta<0.11,>=0.10->fiftyone) (2023.3)\n",
            "Installing collected packages: texttable, sseclient-py, rarfile, pprintpp, kaleido, brotli, xmltodict, retrying, pyzstd, pyppmd, pycryptodomex, pybcj, priority, multivolumefile, jsonlines, jmespath, inflate64, hyperframe, hpack, h11, graphql-core, ftfy, fiftyone-db, dnspython, dill, Deprecated, dacite, argcomplete, aiofiles, wsproto, strawberry-graphql, starlette, pymongo, py7zr, httpcore, h2, eventlet, botocore, voxel51-eta, sse-starlette, s3transfer, motor, mongoengine, hypercorn, httpx, fiftyone-brain, universal-analytics-python3, boto3, fiftyone\n",
            "Successfully installed Deprecated-1.2.14 aiofiles-23.1.0 argcomplete-3.0.8 boto3-1.26.149 botocore-1.29.149 brotli-1.0.9 dacite-1.7.0 dill-0.3.6 dnspython-2.3.0 eventlet-0.33.3 fiftyone-0.21.0 fiftyone-brain-0.12.0 fiftyone-db-0.4.0 ftfy-6.1.1 graphql-core-3.2.3 h11-0.14.0 h2-4.1.0 hpack-4.0.0 httpcore-0.17.2 httpx-0.24.1 hypercorn-0.14.3 hyperframe-6.0.1 inflate64-0.3.1 jmespath-1.0.1 jsonlines-3.1.0 kaleido-0.2.1 mongoengine-0.24.2 motor-3.1.2 multivolumefile-0.2.3 pprintpp-0.4.0 priority-2.0.0 py7zr-0.20.5 pybcj-1.0.1 pycryptodomex-3.18.0 pymongo-4.3.3 pyppmd-1.0.0 pyzstd-0.15.7 rarfile-4.0 retrying-1.3.4 s3transfer-0.6.1 sse-starlette-0.10.3 sseclient-py-1.7.2 starlette-0.26.1 strawberry-graphql-0.138.1 texttable-1.6.7 universal-analytics-python3-1.1.1 voxel51-eta-0.10.0 wsproto-1.2.0 xmltodict-0.13.0\n"
          ]
        }
      ]
    },
    {
      "cell_type": "code",
      "source": [
        "from google.colab import drive\n",
        "drive.mount('/content/drive')"
      ],
      "metadata": {
        "id": "UaxCtzA39QM2",
        "colab": {
          "base_uri": "https://localhost:8080/"
        },
        "outputId": "250a2afc-c91d-492e-bc50-0e5f73eef616"
      },
      "execution_count": null,
      "outputs": [
        {
          "output_type": "stream",
          "name": "stdout",
          "text": [
            "Mounted at /content/drive\n"
          ]
        }
      ]
    },
    {
      "cell_type": "code",
      "source": [
        "%cd /content/drive/MyDrive/Dataset_Person \n",
        "%mkdir GoogleNet\n",
        "!ls fiftyone/coco-2017"
      ],
      "metadata": {
        "id": "LPF-BO4s98SC",
        "colab": {
          "base_uri": "https://localhost:8080/"
        },
        "outputId": "82eaf3f7-73c8-4fe9-ae01-fa84d214eb50"
      },
      "execution_count": null,
      "outputs": [
        {
          "output_type": "stream",
          "name": "stdout",
          "text": [
            "/content/drive/MyDrive/Dataset_Person\n",
            "info.json  raw\ttrain  validation\n"
          ]
        }
      ]
    },
    {
      "cell_type": "markdown",
      "source": [
        "# Prepare dependencies"
      ],
      "metadata": {
        "id": "2Ey5AYovF8eU"
      }
    },
    {
      "cell_type": "code",
      "source": [
        "# Langsung tersimpan di drive, jadi cukup di run 1 kali saja\n",
        "\n",
        "!wget https://raw.githubusercontent.com/pytorch/vision/main/references/detection/transforms.py\n",
        "!wget https://raw.githubusercontent.com/pytorch/vision/main/references/detection/engine.py\n",
        "!wget https://raw.githubusercontent.com/pytorch/vision/main/references/detection/utils.py\n",
        "!wget https://raw.githubusercontent.com/pytorch/vision/main/references/detection/coco_eval.py\n",
        "!wget https://raw.githubusercontent.com/pytorch/vision/main/references/detection/coco_utils.py"
      ],
      "metadata": {
        "id": "jLGpG9nFGAIr",
        "colab": {
          "base_uri": "https://localhost:8080/"
        },
        "outputId": "f8bc783f-72a5-4112-d5b1-b4f6a026a2c5"
      },
      "execution_count": null,
      "outputs": [
        {
          "output_type": "stream",
          "name": "stdout",
          "text": [
            "--2023-06-08 07:35:05--  https://raw.githubusercontent.com/pytorch/vision/main/references/detection/transforms.py\n",
            "Resolving raw.githubusercontent.com (raw.githubusercontent.com)... 185.199.108.133, 185.199.109.133, 185.199.110.133, ...\n",
            "Connecting to raw.githubusercontent.com (raw.githubusercontent.com)|185.199.108.133|:443... connected.\n",
            "HTTP request sent, awaiting response... 200 OK\n",
            "Length: 23337 (23K) [text/plain]\n",
            "Saving to: ‘transforms.py’\n",
            "\n",
            "\rtransforms.py         0%[                    ]       0  --.-KB/s               \rtransforms.py       100%[===================>]  22.79K  --.-KB/s    in 0.002s  \n",
            "\n",
            "2023-06-08 07:35:05 (12.8 MB/s) - ‘transforms.py’ saved [23337/23337]\n",
            "\n",
            "--2023-06-08 07:35:05--  https://raw.githubusercontent.com/pytorch/vision/main/references/detection/engine.py\n",
            "Resolving raw.githubusercontent.com (raw.githubusercontent.com)... 185.199.108.133, 185.199.109.133, 185.199.110.133, ...\n",
            "Connecting to raw.githubusercontent.com (raw.githubusercontent.com)|185.199.108.133|:443... connected.\n",
            "HTTP request sent, awaiting response... 200 OK\n",
            "Length: 4032 (3.9K) [text/plain]\n",
            "Saving to: ‘engine.py’\n",
            "\n",
            "engine.py           100%[===================>]   3.94K  --.-KB/s    in 0.001s  \n",
            "\n",
            "2023-06-08 07:35:05 (3.04 MB/s) - ‘engine.py’ saved [4032/4032]\n",
            "\n",
            "--2023-06-08 07:35:05--  https://raw.githubusercontent.com/pytorch/vision/main/references/detection/utils.py\n",
            "Resolving raw.githubusercontent.com (raw.githubusercontent.com)... 185.199.109.133, 185.199.111.133, 185.199.108.133, ...\n",
            "Connecting to raw.githubusercontent.com (raw.githubusercontent.com)|185.199.109.133|:443... connected.\n",
            "HTTP request sent, awaiting response... 200 OK\n",
            "Length: 8388 (8.2K) [text/plain]\n",
            "Saving to: ‘utils.py’\n",
            "\n",
            "utils.py            100%[===================>]   8.19K  --.-KB/s    in 0.001s  \n",
            "\n",
            "2023-06-08 07:35:05 (7.95 MB/s) - ‘utils.py’ saved [8388/8388]\n",
            "\n",
            "--2023-06-08 07:35:06--  https://raw.githubusercontent.com/pytorch/vision/main/references/detection/coco_eval.py\n",
            "Resolving raw.githubusercontent.com (raw.githubusercontent.com)... 185.199.108.133, 185.199.109.133, 185.199.110.133, ...\n",
            "Connecting to raw.githubusercontent.com (raw.githubusercontent.com)|185.199.108.133|:443... connected.\n",
            "HTTP request sent, awaiting response... 200 OK\n",
            "Length: 6447 (6.3K) [text/plain]\n",
            "Saving to: ‘coco_eval.py’\n",
            "\n",
            "coco_eval.py        100%[===================>]   6.30K  --.-KB/s    in 0.001s  \n",
            "\n",
            "2023-06-08 07:35:06 (5.63 MB/s) - ‘coco_eval.py’ saved [6447/6447]\n",
            "\n",
            "--2023-06-08 07:35:06--  https://raw.githubusercontent.com/pytorch/vision/main/references/detection/coco_utils.py\n",
            "Resolving raw.githubusercontent.com (raw.githubusercontent.com)... 185.199.108.133, 185.199.109.133, 185.199.110.133, ...\n",
            "Connecting to raw.githubusercontent.com (raw.githubusercontent.com)|185.199.108.133|:443... connected.\n",
            "HTTP request sent, awaiting response... 200 OK\n",
            "Length: 8893 (8.7K) [text/plain]\n",
            "Saving to: ‘coco_utils.py’\n",
            "\n",
            "coco_utils.py       100%[===================>]   8.68K  --.-KB/s    in 0.003s  \n",
            "\n",
            "2023-06-08 07:35:06 (3.13 MB/s) - ‘coco_utils.py’ saved [8893/8893]\n",
            "\n"
          ]
        }
      ]
    },
    {
      "cell_type": "markdown",
      "source": [
        "# Import Dependencies"
      ],
      "metadata": {
        "id": "0o-1KbHrGJ6g"
      }
    },
    {
      "cell_type": "code",
      "source": [
        "import torch\n",
        "import torchvision\n",
        "import torch.utils.data\n",
        "from torchvision.models.detection import FasterRCNN\n",
        "from torchvision.models.detection.rpn import AnchorGenerator\n",
        "\n",
        "import fiftyone as fo\n",
        "import fiftyone.zoo as foz\n",
        "import fiftyone.utils.coco as fouc\n",
        "\n",
        "import utils\n",
        "import transforms as T\n",
        "from engine import train_one_epoch, evaluate\n",
        "\n",
        "from PIL import Image"
      ],
      "metadata": {
        "execution": {
          "iopub.status.busy": "2023-06-07T06:08:56.772402Z",
          "iopub.execute_input": "2023-06-07T06:08:56.772810Z",
          "iopub.status.idle": "2023-06-07T06:08:59.901839Z",
          "shell.execute_reply.started": "2023-06-07T06:08:56.772776Z",
          "shell.execute_reply": "2023-06-07T06:08:59.900923Z"
        },
        "trusted": true,
        "id": "5M0deguU8uKw",
        "colab": {
          "base_uri": "https://localhost:8080/"
        },
        "outputId": "76886103-c105-46a8-ea23-f585cb6195c3"
      },
      "execution_count": null,
      "outputs": [
        {
          "output_type": "stream",
          "name": "stdout",
          "text": [
            "Migrating database to v0.21.0\n"
          ]
        },
        {
          "output_type": "stream",
          "name": "stderr",
          "text": [
            "INFO:fiftyone.migrations.runner:Migrating database to v0.21.0\n"
          ]
        }
      ]
    },
    {
      "cell_type": "markdown",
      "source": [
        "# Prepare Dataset"
      ],
      "metadata": {
        "id": "m2gYI82mGceV"
      }
    },
    {
      "cell_type": "code",
      "source": [
        "train_dir = \"fiftyone/coco-2017/train\"\n",
        "test_dir = \"fiftyone/coco-2017/validation\"\n",
        "\n",
        "# Folder untuk simpan model dan data hasil prediksi\n",
        "save_dir = \"GoogleNet\""
      ],
      "metadata": {
        "execution": {
          "iopub.status.busy": "2023-06-07T06:08:59.903501Z",
          "iopub.execute_input": "2023-06-07T06:08:59.904715Z",
          "iopub.status.idle": "2023-06-07T06:08:59.909930Z",
          "shell.execute_reply.started": "2023-06-07T06:08:59.904678Z",
          "shell.execute_reply": "2023-06-07T06:08:59.909013Z"
        },
        "trusted": true,
        "id": "vLydBZRJ8uKx"
      },
      "execution_count": null,
      "outputs": []
    },
    {
      "cell_type": "code",
      "source": [
        "train_dataset = fo.Dataset.from_dir(\n",
        "    dataset_dir = train_dir,\n",
        "    dataset_type = fo.types.COCODetectionDataset,\n",
        "    label_types = [\"detections\"],\n",
        "    classes = [\"person\"]\n",
        ")\n",
        "\n",
        "test_dataset = fo.Dataset.from_dir(\n",
        "    dataset_dir = test_dir,\n",
        "    dataset_type = fo.types.COCODetectionDataset,\n",
        "    label_types=[\"detections\"],\n",
        "    classes = [\"person\"]\n",
        ")"
      ],
      "metadata": {
        "execution": {
          "iopub.status.busy": "2023-06-07T06:09:00.635557Z",
          "iopub.execute_input": "2023-06-07T06:09:00.635907Z",
          "iopub.status.idle": "2023-06-07T06:09:00.649826Z",
          "shell.execute_reply.started": "2023-06-07T06:09:00.635879Z",
          "shell.execute_reply": "2023-06-07T06:09:00.648710Z"
        },
        "trusted": true,
        "id": "Xwj8po2P8uKx",
        "colab": {
          "base_uri": "https://localhost:8080/"
        },
        "outputId": "bd00a153-18b1-4ad8-e49c-1bd5af8f9bfa"
      },
      "execution_count": null,
      "outputs": [
        {
          "output_type": "stream",
          "name": "stdout",
          "text": [
            " 100% |███████████████| 3000/3000 [23.0s elapsed, 0s remaining, 151.4 samples/s]      \n"
          ]
        },
        {
          "output_type": "stream",
          "name": "stderr",
          "text": [
            "INFO:eta.core.utils: 100% |███████████████| 3000/3000 [23.0s elapsed, 0s remaining, 151.4 samples/s]      \n"
          ]
        },
        {
          "output_type": "stream",
          "name": "stdout",
          "text": [
            " 100% |█████████████████| 500/500 [3.4s elapsed, 0s remaining, 138.9 samples/s]      \n"
          ]
        },
        {
          "output_type": "stream",
          "name": "stderr",
          "text": [
            "INFO:eta.core.utils: 100% |█████████████████| 500/500 [3.4s elapsed, 0s remaining, 138.9 samples/s]      \n"
          ]
        }
      ]
    },
    {
      "cell_type": "code",
      "source": [
        "# Iterate over the dataset\n",
        "for sample in train_dataset:\n",
        "    # Get the detections\n",
        "    detections = sample.ground_truth.detections\n",
        "    # Filter out non-person detections\n",
        "    detections = [d for d in detections if d.label == \"person\"]\n",
        "    # Update the detections\n",
        "    sample.ground_truth.detections = detections\n",
        "    # Save the sample\n",
        "    sample.save()"
      ],
      "metadata": {
        "id": "EnIKRii49upM"
      },
      "execution_count": null,
      "outputs": []
    },
    {
      "cell_type": "code",
      "source": [
        "# Iterate over the dataset\n",
        "for sample in test_dataset:\n",
        "    # Get the detections\n",
        "    detections = sample.ground_truth.detections\n",
        "    # Filter out non-person detections\n",
        "    detections = [d for d in detections if d.label == \"person\"]\n",
        "    # Update the detections\n",
        "    sample.ground_truth.detections = detections\n",
        "    # Save the sample\n",
        "    sample.save()"
      ],
      "metadata": {
        "id": "DxM3BPYY9veb"
      },
      "execution_count": null,
      "outputs": []
    },
    {
      "cell_type": "markdown",
      "source": [
        "## Object Dataset"
      ],
      "metadata": {
        "id": "9znxuKC_HJhU"
      }
    },
    {
      "cell_type": "code",
      "source": [
        "class ObjectDataset(torch.utils.data.Dataset):\n",
        "  def __init__(self, root, transforms=None):\n",
        "    #please define the data proses init\n",
        "    self.root = root\n",
        "    self.transforms = transforms\n",
        "\n",
        "    self.img_paths = self.root.values(\"filepath\")\n",
        "\n",
        "    self.classes = self.root.distinct(\"%s.detections.label\" % \"ground_truth\")\n",
        "    if self.classes[0] != \"background\":\n",
        "        self.classes = [\"background\"] + self.classes\n",
        "\n",
        "    self.labels_map_rev = {c: i for i, c in enumerate(self.classes)}\n",
        "\n",
        "  def __getitem__(self, idx):\n",
        "    # please define the dataloader\n",
        "    img_path = self.img_paths[idx]\n",
        "    sample_img = self.root[img_path]\n",
        "    metadata = sample_img.metadata\n",
        "\n",
        "    img = Image.open(img_path).convert('RGB')\n",
        "\n",
        "    boxes = []\n",
        "    labels = []\n",
        "    image_id = []\n",
        "    area = []\n",
        "    iscrowd = []\n",
        "\n",
        "    for det in sample_img[\"ground_truth\"].detections:\n",
        "      category_id = self.labels_map_rev[det.label]\n",
        "      coco_obj = fouc.COCOObject.from_label(\n",
        "          det, metadata, category_id=category_id,\n",
        "      )\n",
        "      x, y, w, h = coco_obj.bbox\n",
        "      boxes.append([x, y, x + w, y + h])\n",
        "      labels.append(coco_obj.category_id)\n",
        "      area.append(coco_obj.area)\n",
        "      iscrowd.append(coco_obj.iscrowd)\n",
        "\n",
        "    target = {}\n",
        "    target[\"boxes\"] = torch.as_tensor(boxes, dtype=torch.float32)\n",
        "    target[\"labels\"] = torch.as_tensor(labels, dtype=torch.int64)\n",
        "    target[\"image_id\"] = torch.as_tensor([idx])\n",
        "    target[\"area\"] = torch.as_tensor(area, dtype=torch.float32)\n",
        "    target[\"iscrowd\"] = torch.as_tensor(iscrowd, dtype=torch.int64)\n",
        "\n",
        "    if self.transforms is not None: #preprocessing dan augmentasi\n",
        "      img, target = self.transforms(img, target)\n",
        "\n",
        "    return img, target\n",
        "  \n",
        "  def __len__(self):\n",
        "    return len(self.img_paths)\n"
      ],
      "metadata": {
        "execution": {
          "iopub.status.busy": "2023-06-07T06:09:01.165359Z",
          "iopub.execute_input": "2023-06-07T06:09:01.165709Z",
          "iopub.status.idle": "2023-06-07T06:09:01.178648Z",
          "shell.execute_reply.started": "2023-06-07T06:09:01.165682Z",
          "shell.execute_reply": "2023-06-07T06:09:01.177604Z"
        },
        "trusted": true,
        "id": "o8P18aDx8uKy"
      },
      "execution_count": null,
      "outputs": []
    },
    {
      "cell_type": "markdown",
      "source": [
        "## Data Transforms"
      ],
      "metadata": {
        "id": "wkDOtY_HGxXy"
      }
    },
    {
      "cell_type": "code",
      "source": [
        "def get_transform(train):\n",
        "    transforms = []\n",
        "    transforms.append(T.PILToTensor())\n",
        "    transforms.append(T.ConvertImageDtype(torch.float))\n",
        "    if train:\n",
        "        transforms.append(T.RandomHorizontalFlip(0.5))\n",
        "    \n",
        "    return T.Compose(transforms)"
      ],
      "metadata": {
        "execution": {
          "iopub.status.busy": "2023-06-07T06:09:01.673016Z",
          "iopub.execute_input": "2023-06-07T06:09:01.674028Z",
          "iopub.status.idle": "2023-06-07T06:09:01.679991Z",
          "shell.execute_reply.started": "2023-06-07T06:09:01.673982Z",
          "shell.execute_reply": "2023-06-07T06:09:01.679002Z"
        },
        "trusted": true,
        "id": "sucKV1d88uKz"
      },
      "execution_count": null,
      "outputs": []
    },
    {
      "cell_type": "markdown",
      "source": [
        "## Apply Transformations and Dataloader"
      ],
      "metadata": {
        "id": "hNEJXKw8HbD2"
      }
    },
    {
      "cell_type": "code",
      "source": [
        "# Use our dataset and defined transformations\n",
        "train_data = ObjectDataset(train_dataset, get_transform(train=True))\n",
        "test_data = ObjectDataset(test_dataset, get_transform(train=False))\n",
        "\n",
        "# Define training and validation data loaders\n",
        "train_dataloader = torch.utils.data.DataLoader(\n",
        "  train_data, batch_size=2, shuffle=True, num_workers=2,\n",
        "  collate_fn=utils.collate_fn)\n",
        "\n",
        "test_dataloader = torch.utils.data.DataLoader(\n",
        "  test_data, batch_size=1, shuffle=False, num_workers=2,\n",
        "  collate_fn=utils.collate_fn)"
      ],
      "metadata": {
        "execution": {
          "iopub.status.busy": "2023-06-07T06:09:03.417130Z",
          "iopub.execute_input": "2023-06-07T06:09:03.417483Z",
          "iopub.status.idle": "2023-06-07T06:09:04.523768Z",
          "shell.execute_reply.started": "2023-06-07T06:09:03.417455Z",
          "shell.execute_reply": "2023-06-07T06:09:04.522796Z"
        },
        "trusted": true,
        "id": "S8QjumTz8uK0"
      },
      "execution_count": null,
      "outputs": []
    },
    {
      "cell_type": "markdown",
      "source": [
        "# Build Model"
      ],
      "metadata": {
        "id": "09LuZwnd8uK1"
      }
    },
    {
      "cell_type": "markdown",
      "source": [
        "## GoogleNet"
      ],
      "metadata": {
        "id": "MWg3p2Y6ns41"
      }
    },
    {
      "cell_type": "code",
      "source": [
        "# backbone googlenet\n",
        "googlenet = torchvision.models.googlenet(weights=\"DEFAULT\")\n",
        "\n",
        "backbone = torch.nn.Sequential(*list(googlenet.children())[:-3]) # menghilangkan fully connected layer dan global avg pool\n",
        "\n",
        "backbone.out_channels = 1024\n",
        "\n",
        "anchor_generator = AnchorGenerator()\n",
        "\n",
        "roi_pooler = torchvision.ops.MultiScaleRoIAlign(featmap_names= ['0'], output_size=7, sampling_ratio=2)\n",
        "\n",
        "googlenet_model = FasterRCNN(backbone, num_classes=2, rpn_anchor_generator=anchor_generator, box_roi_pool=roi_pooler)"
      ],
      "metadata": {
        "id": "0BlY3hLanvm-",
        "colab": {
          "base_uri": "https://localhost:8080/"
        },
        "outputId": "baae131a-10e4-40d4-88a6-ea76eb562de5"
      },
      "execution_count": null,
      "outputs": [
        {
          "output_type": "stream",
          "name": "stderr",
          "text": [
            "Downloading: \"https://download.pytorch.org/models/googlenet-1378be20.pth\" to /root/.cache/torch/hub/checkpoints/googlenet-1378be20.pth\n",
            "100%|██████████| 49.7M/49.7M [00:00<00:00, 189MB/s]\n"
          ]
        }
      ]
    },
    {
      "cell_type": "markdown",
      "source": [
        "## Train and Evaluate Model"
      ],
      "metadata": {
        "id": "8jt0j1hZISAy"
      }
    },
    {
      "cell_type": "code",
      "source": [
        "def train(model, train_dataloader, test_dataloader, num_epochs=5):\n",
        "    \n",
        "    # train on the GPU or on the CPU, if a GPU is not available\n",
        "    device = torch.device('cuda') if torch.cuda.is_available() else torch.device('cpu')\n",
        "    \n",
        "    # move model to the right device\n",
        "    model.to(device)\n",
        "    \n",
        "    # construct an optimizer\n",
        "    params = [p for p in model.parameters() if p.requires_grad]\n",
        "    optimizer = torch.optim.SGD(params, lr=0.005, momentum=0.9, weight_decay=0.0005)\n",
        "    # and a learning rate scheduler\n",
        "    lr_scheduler = torch.optim.lr_scheduler.StepLR(optimizer, step_size=3, gamma=0.1)\n",
        "    \n",
        "    for epoch in range(num_epochs):\n",
        "        # train for one epoch, printing every 100 iterations\n",
        "        train_one_epoch(model, optimizer, train_dataloader, device, epoch, print_freq=100)\n",
        "\n",
        "        # update the learning rate\n",
        "        lr_scheduler.step()\n",
        "        \n",
        "        # evaluate on the test dataset\n",
        "        evaluate(model, test_dataloader, device=device)\n",
        "    \n",
        "    print(\"That's it!\")"
      ],
      "metadata": {
        "execution": {
          "iopub.status.busy": "2023-06-07T06:12:23.528073Z",
          "iopub.execute_input": "2023-06-07T06:12:23.528526Z",
          "iopub.status.idle": "2023-06-07T06:12:23.540036Z",
          "shell.execute_reply.started": "2023-06-07T06:12:23.528486Z",
          "shell.execute_reply": "2023-06-07T06:12:23.539003Z"
        },
        "trusted": true,
        "id": "cc5CyjHd8uK5"
      },
      "execution_count": null,
      "outputs": []
    },
    {
      "cell_type": "code",
      "source": [
        "train(googlenet_model, train_dataloader, test_dataloader, 10)"
      ],
      "metadata": {
        "execution": {
          "iopub.status.busy": "2023-06-07T06:12:38.521204Z",
          "iopub.execute_input": "2023-06-07T06:12:38.521572Z"
        },
        "trusted": true,
        "id": "LVH1KIWn8uK6",
        "colab": {
          "base_uri": "https://localhost:8080/"
        },
        "outputId": "b36c2edb-20a8-4f9f-dd6b-f8bc1f17c361"
      },
      "execution_count": null,
      "outputs": [
        {
          "output_type": "stream",
          "name": "stdout",
          "text": [
            "Epoch: [0]  [   0/1500]  eta: 4:18:16  lr: 0.000010  loss: 1.4106 (1.4106)  loss_classifier: 0.6804 (0.6804)  loss_box_reg: 0.0270 (0.0270)  loss_objectness: 0.6758 (0.6758)  loss_rpn_box_reg: 0.0275 (0.0275)  time: 10.3307  data: 0.5992  max mem: 2693\n",
            "Epoch: [0]  [ 100/1500]  eta: 0:16:14  lr: 0.000509  loss: 0.7063 (1.1271)  loss_classifier: 0.0975 (0.2610)  loss_box_reg: 0.0277 (0.0467)  loss_objectness: 0.4523 (0.5956)  loss_rpn_box_reg: 0.0679 (0.2238)  time: 0.3399  data: 0.0112  max mem: 4174\n",
            "Epoch: [0]  [ 200/1500]  eta: 0:11:21  lr: 0.001009  loss: 0.5353 (0.9225)  loss_classifier: 0.0907 (0.1854)  loss_box_reg: 0.0375 (0.0413)  loss_objectness: 0.3036 (0.4993)  loss_rpn_box_reg: 0.0520 (0.1966)  time: 0.3563  data: 0.0128  max mem: 4175\n",
            "Epoch: [0]  [ 300/1500]  eta: 0:09:22  lr: 0.001508  loss: 0.5011 (0.8220)  loss_classifier: 0.1002 (0.1620)  loss_box_reg: 0.0613 (0.0495)  loss_objectness: 0.2250 (0.4344)  loss_rpn_box_reg: 0.0515 (0.1761)  time: 0.3612  data: 0.0116  max mem: 4177\n",
            "Epoch: [0]  [ 400/1500]  eta: 0:08:07  lr: 0.002008  loss: 0.4670 (0.7770)  loss_classifier: 0.0857 (0.1500)  loss_box_reg: 0.0408 (0.0559)  loss_objectness: 0.2024 (0.3946)  loss_rpn_box_reg: 0.0685 (0.1765)  time: 0.3686  data: 0.0104  max mem: 4177\n",
            "Epoch: [0]  [ 500/1500]  eta: 0:07:05  lr: 0.002507  loss: 0.5098 (0.7394)  loss_classifier: 0.0917 (0.1413)  loss_box_reg: 0.0843 (0.0615)  loss_objectness: 0.2306 (0.3627)  loss_rpn_box_reg: 0.1162 (0.1739)  time: 0.3515  data: 0.0097  max mem: 4490\n",
            "Epoch: [0]  [ 600/1500]  eta: 0:06:12  lr: 0.003007  loss: 0.4056 (0.7123)  loss_classifier: 0.0846 (0.1363)  loss_box_reg: 0.0638 (0.0686)  loss_objectness: 0.1650 (0.3369)  loss_rpn_box_reg: 0.0766 (0.1705)  time: 0.3514  data: 0.0101  max mem: 4490\n",
            "Epoch: [0]  [ 700/1500]  eta: 0:05:23  lr: 0.003506  loss: 0.5493 (0.6926)  loss_classifier: 0.1000 (0.1324)  loss_box_reg: 0.0888 (0.0744)  loss_objectness: 0.1398 (0.3147)  loss_rpn_box_reg: 0.1018 (0.1711)  time: 0.3490  data: 0.0107  max mem: 4490\n",
            "Epoch: [0]  [ 800/1500]  eta: 0:04:38  lr: 0.004006  loss: 0.4478 (0.6701)  loss_classifier: 0.1012 (0.1291)  loss_box_reg: 0.0864 (0.0775)  loss_objectness: 0.1551 (0.2976)  loss_rpn_box_reg: 0.0563 (0.1659)  time: 0.3526  data: 0.0100  max mem: 4490\n",
            "Epoch: [0]  [ 900/1500]  eta: 0:03:56  lr: 0.004505  loss: 0.4991 (0.6658)  loss_classifier: 0.1325 (0.1297)  loss_box_reg: 0.1615 (0.0851)  loss_objectness: 0.1185 (0.2859)  loss_rpn_box_reg: 0.0958 (0.1649)  time: 0.3546  data: 0.0138  max mem: 4490\n",
            "Epoch: [0]  [1000/1500]  eta: 0:03:14  lr: 0.005000  loss: 0.5047 (0.6560)  loss_classifier: 0.1101 (0.1286)  loss_box_reg: 0.1218 (0.0888)  loss_objectness: 0.1525 (0.2751)  loss_rpn_box_reg: 0.1742 (0.1634)  time: 0.3502  data: 0.0097  max mem: 4490\n",
            "Epoch: [0]  [1100/1500]  eta: 0:02:34  lr: 0.005000  loss: 0.4019 (0.6445)  loss_classifier: 0.0913 (0.1274)  loss_box_reg: 0.1066 (0.0915)  loss_objectness: 0.1292 (0.2645)  loss_rpn_box_reg: 0.0337 (0.1611)  time: 0.3633  data: 0.0097  max mem: 4490\n",
            "Epoch: [0]  [1200/1500]  eta: 0:01:55  lr: 0.005000  loss: 0.4369 (0.6346)  loss_classifier: 0.0936 (0.1272)  loss_box_reg: 0.1017 (0.0951)  loss_objectness: 0.1169 (0.2555)  loss_rpn_box_reg: 0.0357 (0.1568)  time: 0.3490  data: 0.0092  max mem: 4490\n",
            "Epoch: [0]  [1300/1500]  eta: 0:01:16  lr: 0.005000  loss: 0.5011 (0.6291)  loss_classifier: 0.1007 (0.1271)  loss_box_reg: 0.0984 (0.0983)  loss_objectness: 0.1471 (0.2481)  loss_rpn_box_reg: 0.0647 (0.1556)  time: 0.3438  data: 0.0103  max mem: 4490\n",
            "Epoch: [0]  [1400/1500]  eta: 0:00:37  lr: 0.005000  loss: 0.4503 (0.6226)  loss_classifier: 0.1096 (0.1268)  loss_box_reg: 0.1171 (0.1007)  loss_objectness: 0.1331 (0.2411)  loss_rpn_box_reg: 0.0590 (0.1540)  time: 0.3436  data: 0.0113  max mem: 4490\n",
            "Epoch: [0]  [1499/1500]  eta: 0:00:00  lr: 0.005000  loss: 0.4192 (0.6178)  loss_classifier: 0.1039 (0.1257)  loss_box_reg: 0.1146 (0.1016)  loss_objectness: 0.1188 (0.2355)  loss_rpn_box_reg: 0.0431 (0.1551)  time: 0.3519  data: 0.0105  max mem: 4490\n",
            "Epoch: [0] Total time: 0:09:26 (0.3779 s / it)\n",
            "creating index...\n",
            "index created!\n",
            "Test:  [  0/500]  eta: 0:03:08  model_time: 0.1676 (0.1676)  evaluator_time: 0.0060 (0.0060)  time: 0.3768  data: 0.2014  max mem: 4490\n",
            "Test:  [100/500]  eta: 0:00:26  model_time: 0.0411 (0.0525)  evaluator_time: 0.0018 (0.0061)  time: 0.0571  data: 0.0047  max mem: 4490\n",
            "Test:  [200/500]  eta: 0:00:20  model_time: 0.0449 (0.0518)  evaluator_time: 0.0035 (0.0074)  time: 0.0760  data: 0.0096  max mem: 4490\n",
            "Test:  [300/500]  eta: 0:00:13  model_time: 0.0385 (0.0496)  evaluator_time: 0.0056 (0.0066)  time: 0.0596  data: 0.0045  max mem: 4490\n",
            "Test:  [400/500]  eta: 0:00:06  model_time: 0.0448 (0.0480)  evaluator_time: 0.0044 (0.0069)  time: 0.0645  data: 0.0076  max mem: 4490\n",
            "Test:  [499/500]  eta: 0:00:00  model_time: 0.0412 (0.0475)  evaluator_time: 0.0019 (0.0075)  time: 0.0554  data: 0.0060  max mem: 4490\n",
            "Test: Total time: 0:00:32 (0.0642 s / it)\n",
            "Averaged stats: model_time: 0.0412 (0.0475)  evaluator_time: 0.0019 (0.0075)\n",
            "Accumulating evaluation results...\n",
            "DONE (t=0.16s).\n",
            "IoU metric: bbox\n",
            " Average Precision  (AP) @[ IoU=0.50:0.95 | area=   all | maxDets=100 ] = 0.092\n",
            " Average Precision  (AP) @[ IoU=0.50      | area=   all | maxDets=100 ] = 0.299\n",
            " Average Precision  (AP) @[ IoU=0.75      | area=   all | maxDets=100 ] = 0.026\n",
            " Average Precision  (AP) @[ IoU=0.50:0.95 | area= small | maxDets=100 ] = 0.010\n",
            " Average Precision  (AP) @[ IoU=0.50:0.95 | area=medium | maxDets=100 ] = 0.066\n",
            " Average Precision  (AP) @[ IoU=0.50:0.95 | area= large | maxDets=100 ] = 0.185\n",
            " Average Recall     (AR) @[ IoU=0.50:0.95 | area=   all | maxDets=  1 ] = 0.058\n",
            " Average Recall     (AR) @[ IoU=0.50:0.95 | area=   all | maxDets= 10 ] = 0.163\n",
            " Average Recall     (AR) @[ IoU=0.50:0.95 | area=   all | maxDets=100 ] = 0.212\n",
            " Average Recall     (AR) @[ IoU=0.50:0.95 | area= small | maxDets=100 ] = 0.077\n",
            " Average Recall     (AR) @[ IoU=0.50:0.95 | area=medium | maxDets=100 ] = 0.196\n",
            " Average Recall     (AR) @[ IoU=0.50:0.95 | area= large | maxDets=100 ] = 0.350\n",
            "Epoch: [1]  [   0/1500]  eta: 0:14:04  lr: 0.005000  loss: 1.1402 (1.1402)  loss_classifier: 0.2752 (0.2752)  loss_box_reg: 0.3509 (0.3509)  loss_objectness: 0.1787 (0.1787)  loss_rpn_box_reg: 0.3354 (0.3354)  time: 0.5632  data: 0.2336  max mem: 4490\n",
            "Epoch: [1]  [ 100/1500]  eta: 0:08:15  lr: 0.005000  loss: 0.4737 (0.5277)  loss_classifier: 0.0958 (0.1185)  loss_box_reg: 0.0867 (0.1290)  loss_objectness: 0.1389 (0.1445)  loss_rpn_box_reg: 0.0848 (0.1357)  time: 0.3458  data: 0.0098  max mem: 4490\n",
            "Epoch: [1]  [ 200/1500]  eta: 0:07:38  lr: 0.005000  loss: 0.4502 (0.5204)  loss_classifier: 0.0898 (0.1169)  loss_box_reg: 0.0948 (0.1287)  loss_objectness: 0.1065 (0.1428)  loss_rpn_box_reg: 0.0461 (0.1319)  time: 0.3480  data: 0.0106  max mem: 4490\n",
            "Epoch: [1]  [ 300/1500]  eta: 0:07:02  lr: 0.005000  loss: 0.3326 (0.5095)  loss_classifier: 0.0838 (0.1147)  loss_box_reg: 0.0811 (0.1287)  loss_objectness: 0.0939 (0.1401)  loss_rpn_box_reg: 0.0460 (0.1260)  time: 0.3415  data: 0.0098  max mem: 4490\n",
            "Epoch: [1]  [ 400/1500]  eta: 0:06:26  lr: 0.005000  loss: 0.6013 (0.5169)  loss_classifier: 0.1394 (0.1155)  loss_box_reg: 0.1597 (0.1291)  loss_objectness: 0.1476 (0.1434)  loss_rpn_box_reg: 0.0885 (0.1291)  time: 0.3449  data: 0.0095  max mem: 4490\n",
            "Epoch: [1]  [ 500/1500]  eta: 0:05:52  lr: 0.005000  loss: 0.3362 (0.5070)  loss_classifier: 0.0934 (0.1146)  loss_box_reg: 0.1041 (0.1291)  loss_objectness: 0.0904 (0.1387)  loss_rpn_box_reg: 0.0531 (0.1246)  time: 0.3490  data: 0.0127  max mem: 4490\n",
            "Epoch: [1]  [ 600/1500]  eta: 0:05:16  lr: 0.005000  loss: 0.4545 (0.5068)  loss_classifier: 0.1041 (0.1152)  loss_box_reg: 0.1040 (0.1304)  loss_objectness: 0.1219 (0.1386)  loss_rpn_box_reg: 0.1298 (0.1225)  time: 0.3561  data: 0.0116  max mem: 4490\n",
            "Epoch: [1]  [ 700/1500]  eta: 0:04:41  lr: 0.005000  loss: 0.3866 (0.5073)  loss_classifier: 0.1092 (0.1151)  loss_box_reg: 0.1152 (0.1314)  loss_objectness: 0.0952 (0.1383)  loss_rpn_box_reg: 0.0464 (0.1225)  time: 0.3615  data: 0.0127  max mem: 4490\n",
            "Epoch: [1]  [ 800/1500]  eta: 0:04:06  lr: 0.005000  loss: 0.2907 (0.5077)  loss_classifier: 0.0813 (0.1152)  loss_box_reg: 0.0855 (0.1319)  loss_objectness: 0.0640 (0.1360)  loss_rpn_box_reg: 0.0430 (0.1246)  time: 0.3441  data: 0.0115  max mem: 4490\n",
            "Epoch: [1]  [ 900/1500]  eta: 0:03:31  lr: 0.005000  loss: 0.5155 (0.5068)  loss_classifier: 0.0993 (0.1149)  loss_box_reg: 0.0921 (0.1320)  loss_objectness: 0.1135 (0.1340)  loss_rpn_box_reg: 0.0695 (0.1258)  time: 0.3574  data: 0.0099  max mem: 4490\n",
            "Epoch: [1]  [1000/1500]  eta: 0:02:55  lr: 0.005000  loss: 0.5974 (0.5161)  loss_classifier: 0.1150 (0.1167)  loss_box_reg: 0.1457 (0.1341)  loss_objectness: 0.1517 (0.1364)  loss_rpn_box_reg: 0.0859 (0.1289)  time: 0.3452  data: 0.0101  max mem: 4490\n",
            "Epoch: [1]  [1100/1500]  eta: 0:02:20  lr: 0.005000  loss: 0.4235 (0.5216)  loss_classifier: 0.1134 (0.1180)  loss_box_reg: 0.1240 (0.1355)  loss_objectness: 0.1107 (0.1387)  loss_rpn_box_reg: 0.0603 (0.1294)  time: 0.3437  data: 0.0098  max mem: 4490\n",
            "Epoch: [1]  [1200/1500]  eta: 0:01:45  lr: 0.005000  loss: 0.5161 (0.5271)  loss_classifier: 0.1130 (0.1191)  loss_box_reg: 0.1211 (0.1371)  loss_objectness: 0.1388 (0.1392)  loss_rpn_box_reg: 0.0806 (0.1317)  time: 0.3461  data: 0.0108  max mem: 4490\n",
            "Epoch: [1]  [1300/1500]  eta: 0:01:10  lr: 0.005000  loss: 0.4184 (0.5272)  loss_classifier: 0.0896 (0.1192)  loss_box_reg: 0.0926 (0.1378)  loss_objectness: 0.1123 (0.1382)  loss_rpn_box_reg: 0.0554 (0.1321)  time: 0.3573  data: 0.0110  max mem: 4490\n",
            "Epoch: [1]  [1400/1500]  eta: 0:00:35  lr: 0.005000  loss: 0.3138 (0.5271)  loss_classifier: 0.0848 (0.1192)  loss_box_reg: 0.0763 (0.1381)  loss_objectness: 0.0679 (0.1379)  loss_rpn_box_reg: 0.0614 (0.1319)  time: 0.3517  data: 0.0117  max mem: 4490\n",
            "Epoch: [1]  [1499/1500]  eta: 0:00:00  lr: 0.005000  loss: 0.3740 (0.5260)  loss_classifier: 0.0867 (0.1184)  loss_box_reg: 0.0836 (0.1376)  loss_objectness: 0.0839 (0.1368)  loss_rpn_box_reg: 0.0555 (0.1331)  time: 0.3552  data: 0.0116  max mem: 4490\n",
            "Epoch: [1] Total time: 0:08:45 (0.3506 s / it)\n",
            "creating index...\n",
            "index created!\n",
            "Test:  [  0/500]  eta: 0:02:17  model_time: 0.0784 (0.0784)  evaluator_time: 0.0029 (0.0029)  time: 0.2747  data: 0.1918  max mem: 4490\n",
            "Test:  [100/500]  eta: 0:00:27  model_time: 0.0443 (0.0418)  evaluator_time: 0.0034 (0.0126)  time: 0.0679  data: 0.0089  max mem: 4490\n",
            "Test:  [200/500]  eta: 0:00:17  model_time: 0.0366 (0.0400)  evaluator_time: 0.0018 (0.0093)  time: 0.0537  data: 0.0051  max mem: 4490\n",
            "Test:  [300/500]  eta: 0:00:11  model_time: 0.0365 (0.0391)  evaluator_time: 0.0051 (0.0080)  time: 0.0568  data: 0.0054  max mem: 4490\n",
            "Test:  [400/500]  eta: 0:00:05  model_time: 0.0421 (0.0397)  evaluator_time: 0.0035 (0.0091)  time: 0.0644  data: 0.0085  max mem: 4490\n",
            "Test:  [499/500]  eta: 0:00:00  model_time: 0.0373 (0.0397)  evaluator_time: 0.0016 (0.0088)  time: 0.0513  data: 0.0048  max mem: 4490\n",
            "Test: Total time: 0:00:28 (0.0579 s / it)\n",
            "Averaged stats: model_time: 0.0373 (0.0397)  evaluator_time: 0.0016 (0.0088)\n",
            "Accumulating evaluation results...\n",
            "DONE (t=0.16s).\n",
            "IoU metric: bbox\n",
            " Average Precision  (AP) @[ IoU=0.50:0.95 | area=   all | maxDets=100 ] = 0.184\n",
            " Average Precision  (AP) @[ IoU=0.50      | area=   all | maxDets=100 ] = 0.466\n",
            " Average Precision  (AP) @[ IoU=0.75      | area=   all | maxDets=100 ] = 0.110\n",
            " Average Precision  (AP) @[ IoU=0.50:0.95 | area= small | maxDets=100 ] = 0.016\n",
            " Average Precision  (AP) @[ IoU=0.50:0.95 | area=medium | maxDets=100 ] = 0.186\n",
            " Average Precision  (AP) @[ IoU=0.50:0.95 | area= large | maxDets=100 ] = 0.322\n",
            " Average Recall     (AR) @[ IoU=0.50:0.95 | area=   all | maxDets=  1 ] = 0.097\n",
            " Average Recall     (AR) @[ IoU=0.50:0.95 | area=   all | maxDets= 10 ] = 0.236\n",
            " Average Recall     (AR) @[ IoU=0.50:0.95 | area=   all | maxDets=100 ] = 0.285\n",
            " Average Recall     (AR) @[ IoU=0.50:0.95 | area= small | maxDets=100 ] = 0.076\n",
            " Average Recall     (AR) @[ IoU=0.50:0.95 | area=medium | maxDets=100 ] = 0.295\n",
            " Average Recall     (AR) @[ IoU=0.50:0.95 | area= large | maxDets=100 ] = 0.463\n",
            "Epoch: [2]  [   0/1500]  eta: 0:14:53  lr: 0.005000  loss: 0.7001 (0.7001)  loss_classifier: 0.1949 (0.1949)  loss_box_reg: 0.2567 (0.2567)  loss_objectness: 0.1061 (0.1061)  loss_rpn_box_reg: 0.1424 (0.1424)  time: 0.5960  data: 0.2846  max mem: 4490\n",
            "Epoch: [2]  [ 100/1500]  eta: 0:08:10  lr: 0.005000  loss: 0.4648 (0.5309)  loss_classifier: 0.1105 (0.1198)  loss_box_reg: 0.1189 (0.1485)  loss_objectness: 0.1118 (0.1251)  loss_rpn_box_reg: 0.1318 (0.1375)  time: 0.3330  data: 0.0097  max mem: 4490\n",
            "Epoch: [2]  [ 200/1500]  eta: 0:07:35  lr: 0.005000  loss: 0.3710 (0.5039)  loss_classifier: 0.0947 (0.1164)  loss_box_reg: 0.1141 (0.1413)  loss_objectness: 0.0805 (0.1236)  loss_rpn_box_reg: 0.0418 (0.1226)  time: 0.3452  data: 0.0096  max mem: 4490\n",
            "Epoch: [2]  [ 300/1500]  eta: 0:07:01  lr: 0.005000  loss: 0.3691 (0.5034)  loss_classifier: 0.0823 (0.1166)  loss_box_reg: 0.0710 (0.1406)  loss_objectness: 0.0830 (0.1189)  loss_rpn_box_reg: 0.0758 (0.1274)  time: 0.3567  data: 0.0096  max mem: 4490\n",
            "Epoch: [2]  [ 400/1500]  eta: 0:06:25  lr: 0.005000  loss: 0.3056 (0.5049)  loss_classifier: 0.0833 (0.1151)  loss_box_reg: 0.0765 (0.1391)  loss_objectness: 0.0903 (0.1184)  loss_rpn_box_reg: 0.0340 (0.1323)  time: 0.3519  data: 0.0131  max mem: 4490\n",
            "Epoch: [2]  [ 500/1500]  eta: 0:05:49  lr: 0.005000  loss: 0.3433 (0.4886)  loss_classifier: 0.0994 (0.1131)  loss_box_reg: 0.1208 (0.1376)  loss_objectness: 0.0745 (0.1143)  loss_rpn_box_reg: 0.0230 (0.1237)  time: 0.3433  data: 0.0123  max mem: 4490\n",
            "Epoch: [2]  [ 600/1500]  eta: 0:05:14  lr: 0.005000  loss: 0.3504 (0.4860)  loss_classifier: 0.0642 (0.1133)  loss_box_reg: 0.0574 (0.1380)  loss_objectness: 0.0982 (0.1142)  loss_rpn_box_reg: 0.0555 (0.1205)  time: 0.3521  data: 0.0116  max mem: 4490\n",
            "Epoch: [2]  [ 700/1500]  eta: 0:04:39  lr: 0.005000  loss: 0.4573 (0.4840)  loss_classifier: 0.1116 (0.1137)  loss_box_reg: 0.1258 (0.1392)  loss_objectness: 0.0633 (0.1128)  loss_rpn_box_reg: 0.0440 (0.1184)  time: 0.3465  data: 0.0109  max mem: 4490\n",
            "Epoch: [2]  [ 800/1500]  eta: 0:04:04  lr: 0.005000  loss: 0.5040 (0.4894)  loss_classifier: 0.1527 (0.1144)  loss_box_reg: 0.1895 (0.1394)  loss_objectness: 0.0880 (0.1147)  loss_rpn_box_reg: 0.0534 (0.1208)  time: 0.3472  data: 0.0105  max mem: 4490\n",
            "Epoch: [2]  [ 900/1500]  eta: 0:03:29  lr: 0.005000  loss: 0.3402 (0.4936)  loss_classifier: 0.0852 (0.1154)  loss_box_reg: 0.0872 (0.1397)  loss_objectness: 0.0853 (0.1163)  loss_rpn_box_reg: 0.0432 (0.1222)  time: 0.3428  data: 0.0097  max mem: 4490\n",
            "Epoch: [2]  [1000/1500]  eta: 0:02:54  lr: 0.005000  loss: 0.3979 (0.4994)  loss_classifier: 0.1110 (0.1168)  loss_box_reg: 0.0888 (0.1424)  loss_objectness: 0.0953 (0.1170)  loss_rpn_box_reg: 0.0475 (0.1232)  time: 0.3392  data: 0.0096  max mem: 4490\n",
            "Epoch: [2]  [1100/1500]  eta: 0:02:19  lr: 0.005000  loss: 0.2853 (0.4931)  loss_classifier: 0.0837 (0.1155)  loss_box_reg: 0.0924 (0.1410)  loss_objectness: 0.0705 (0.1152)  loss_rpn_box_reg: 0.0310 (0.1214)  time: 0.3531  data: 0.0100  max mem: 4490\n",
            "Epoch: [2]  [1200/1500]  eta: 0:01:44  lr: 0.005000  loss: 0.5599 (0.4961)  loss_classifier: 0.1370 (0.1163)  loss_box_reg: 0.1673 (0.1421)  loss_objectness: 0.1104 (0.1145)  loss_rpn_box_reg: 0.0767 (0.1231)  time: 0.3448  data: 0.0128  max mem: 4490\n",
            "Epoch: [2]  [1300/1500]  eta: 0:01:09  lr: 0.005000  loss: 0.5294 (0.4975)  loss_classifier: 0.1146 (0.1163)  loss_box_reg: 0.1415 (0.1428)  loss_objectness: 0.1045 (0.1153)  loss_rpn_box_reg: 0.1087 (0.1232)  time: 0.3484  data: 0.0131  max mem: 4490\n",
            "Epoch: [2]  [1400/1500]  eta: 0:00:34  lr: 0.005000  loss: 0.4355 (0.4987)  loss_classifier: 0.0989 (0.1164)  loss_box_reg: 0.1178 (0.1430)  loss_objectness: 0.0623 (0.1147)  loss_rpn_box_reg: 0.0948 (0.1246)  time: 0.3517  data: 0.0098  max mem: 4490\n",
            "Epoch: [2]  [1499/1500]  eta: 0:00:00  lr: 0.005000  loss: 0.3527 (0.4993)  loss_classifier: 0.0748 (0.1163)  loss_box_reg: 0.0865 (0.1432)  loss_objectness: 0.0765 (0.1154)  loss_rpn_box_reg: 0.0780 (0.1243)  time: 0.3530  data: 0.0099  max mem: 4490\n",
            "Epoch: [2] Total time: 0:08:43 (0.3490 s / it)\n",
            "creating index...\n",
            "index created!\n",
            "Test:  [  0/500]  eta: 0:03:46  model_time: 0.0911 (0.0911)  evaluator_time: 0.0043 (0.0043)  time: 0.4527  data: 0.3557  max mem: 4490\n",
            "Test:  [100/500]  eta: 0:00:25  model_time: 0.0410 (0.0438)  evaluator_time: 0.0017 (0.0068)  time: 0.0538  data: 0.0049  max mem: 4490\n",
            "Test:  [200/500]  eta: 0:00:16  model_time: 0.0418 (0.0414)  evaluator_time: 0.0015 (0.0051)  time: 0.0526  data: 0.0043  max mem: 4490\n",
            "Test:  [300/500]  eta: 0:00:11  model_time: 0.0423 (0.0412)  evaluator_time: 0.0058 (0.0054)  time: 0.0729  data: 0.0088  max mem: 4490\n",
            "Test:  [400/500]  eta: 0:00:05  model_time: 0.0411 (0.0413)  evaluator_time: 0.0012 (0.0059)  time: 0.0534  data: 0.0046  max mem: 4490\n",
            "Test:  [499/500]  eta: 0:00:00  model_time: 0.0394 (0.0411)  evaluator_time: 0.0014 (0.0054)  time: 0.0499  data: 0.0050  max mem: 4490\n",
            "Test: Total time: 0:00:28 (0.0562 s / it)\n",
            "Averaged stats: model_time: 0.0394 (0.0411)  evaluator_time: 0.0014 (0.0054)\n",
            "Accumulating evaluation results...\n",
            "DONE (t=0.12s).\n",
            "IoU metric: bbox\n",
            " Average Precision  (AP) @[ IoU=0.50:0.95 | area=   all | maxDets=100 ] = 0.188\n",
            " Average Precision  (AP) @[ IoU=0.50      | area=   all | maxDets=100 ] = 0.472\n",
            " Average Precision  (AP) @[ IoU=0.75      | area=   all | maxDets=100 ] = 0.107\n",
            " Average Precision  (AP) @[ IoU=0.50:0.95 | area= small | maxDets=100 ] = 0.024\n",
            " Average Precision  (AP) @[ IoU=0.50:0.95 | area=medium | maxDets=100 ] = 0.189\n",
            " Average Precision  (AP) @[ IoU=0.50:0.95 | area= large | maxDets=100 ] = 0.328\n",
            " Average Recall     (AR) @[ IoU=0.50:0.95 | area=   all | maxDets=  1 ] = 0.101\n",
            " Average Recall     (AR) @[ IoU=0.50:0.95 | area=   all | maxDets= 10 ] = 0.246\n",
            " Average Recall     (AR) @[ IoU=0.50:0.95 | area=   all | maxDets=100 ] = 0.287\n",
            " Average Recall     (AR) @[ IoU=0.50:0.95 | area= small | maxDets=100 ] = 0.076\n",
            " Average Recall     (AR) @[ IoU=0.50:0.95 | area=medium | maxDets=100 ] = 0.297\n",
            " Average Recall     (AR) @[ IoU=0.50:0.95 | area= large | maxDets=100 ] = 0.466\n",
            "Epoch: [3]  [   0/1500]  eta: 0:14:32  lr: 0.000500  loss: 0.3130 (0.3130)  loss_classifier: 0.0920 (0.0920)  loss_box_reg: 0.0868 (0.0868)  loss_objectness: 0.0724 (0.0724)  loss_rpn_box_reg: 0.0618 (0.0618)  time: 0.5817  data: 0.2514  max mem: 4490\n",
            "Epoch: [3]  [ 100/1500]  eta: 0:08:18  lr: 0.000500  loss: 0.4029 (0.5272)  loss_classifier: 0.1210 (0.1250)  loss_box_reg: 0.1504 (0.1678)  loss_objectness: 0.0798 (0.1025)  loss_rpn_box_reg: 0.0502 (0.1320)  time: 0.3513  data: 0.0095  max mem: 4490\n",
            "Epoch: [3]  [ 200/1500]  eta: 0:07:37  lr: 0.000500  loss: 0.2281 (0.4906)  loss_classifier: 0.0667 (0.1166)  loss_box_reg: 0.0648 (0.1546)  loss_objectness: 0.0688 (0.1022)  loss_rpn_box_reg: 0.0409 (0.1171)  time: 0.3412  data: 0.0109  max mem: 4490\n",
            "Epoch: [3]  [ 300/1500]  eta: 0:06:59  lr: 0.000500  loss: 0.2781 (0.4813)  loss_classifier: 0.0627 (0.1138)  loss_box_reg: 0.0871 (0.1503)  loss_objectness: 0.0594 (0.1014)  loss_rpn_box_reg: 0.0322 (0.1159)  time: 0.3446  data: 0.0112  max mem: 4490\n",
            "Epoch: [3]  [ 400/1500]  eta: 0:06:25  lr: 0.000500  loss: 0.3579 (0.4720)  loss_classifier: 0.0859 (0.1137)  loss_box_reg: 0.1013 (0.1494)  loss_objectness: 0.0673 (0.0982)  loss_rpn_box_reg: 0.0486 (0.1106)  time: 0.3600  data: 0.0115  max mem: 4490\n",
            "Epoch: [3]  [ 500/1500]  eta: 0:05:50  lr: 0.000500  loss: 0.3441 (0.4648)  loss_classifier: 0.0856 (0.1118)  loss_box_reg: 0.1113 (0.1458)  loss_objectness: 0.0738 (0.0989)  loss_rpn_box_reg: 0.0700 (0.1082)  time: 0.3596  data: 0.0120  max mem: 4490\n",
            "Epoch: [3]  [ 600/1500]  eta: 0:05:15  lr: 0.000500  loss: 0.3562 (0.4747)  loss_classifier: 0.1146 (0.1140)  loss_box_reg: 0.1389 (0.1485)  loss_objectness: 0.0806 (0.1007)  loss_rpn_box_reg: 0.0377 (0.1114)  time: 0.3561  data: 0.0102  max mem: 4490\n",
            "Epoch: [3]  [ 700/1500]  eta: 0:04:39  lr: 0.000500  loss: 0.3475 (0.4610)  loss_classifier: 0.0988 (0.1115)  loss_box_reg: 0.1195 (0.1455)  loss_objectness: 0.0630 (0.0972)  loss_rpn_box_reg: 0.0225 (0.1067)  time: 0.3408  data: 0.0098  max mem: 4490\n",
            "Epoch: [3]  [ 800/1500]  eta: 0:04:04  lr: 0.000500  loss: 0.2971 (0.4579)  loss_classifier: 0.0804 (0.1115)  loss_box_reg: 0.0919 (0.1450)  loss_objectness: 0.0631 (0.0959)  loss_rpn_box_reg: 0.0357 (0.1056)  time: 0.3499  data: 0.0096  max mem: 4490\n",
            "Epoch: [3]  [ 900/1500]  eta: 0:03:29  lr: 0.000500  loss: 0.3621 (0.4578)  loss_classifier: 0.0935 (0.1114)  loss_box_reg: 0.1131 (0.1452)  loss_objectness: 0.0844 (0.0957)  loss_rpn_box_reg: 0.0602 (0.1054)  time: 0.3434  data: 0.0108  max mem: 4490\n",
            "Epoch: [3]  [1000/1500]  eta: 0:02:54  lr: 0.000500  loss: 0.5023 (0.4629)  loss_classifier: 0.1352 (0.1127)  loss_box_reg: 0.1925 (0.1479)  loss_objectness: 0.0597 (0.0956)  loss_rpn_box_reg: 0.0504 (0.1067)  time: 0.3440  data: 0.0099  max mem: 4490\n",
            "Epoch: [3]  [1100/1500]  eta: 0:02:19  lr: 0.000500  loss: 0.4743 (0.4663)  loss_classifier: 0.0948 (0.1134)  loss_box_reg: 0.1331 (0.1487)  loss_objectness: 0.0532 (0.0957)  loss_rpn_box_reg: 0.0900 (0.1085)  time: 0.3512  data: 0.0113  max mem: 4490\n",
            "Epoch: [3]  [1200/1500]  eta: 0:01:44  lr: 0.000500  loss: 0.3060 (0.4675)  loss_classifier: 0.0850 (0.1134)  loss_box_reg: 0.1185 (0.1484)  loss_objectness: 0.0718 (0.0950)  loss_rpn_box_reg: 0.0453 (0.1107)  time: 0.3653  data: 0.0113  max mem: 4490\n",
            "Epoch: [3]  [1300/1500]  eta: 0:01:09  lr: 0.000500  loss: 0.2573 (0.4648)  loss_classifier: 0.0706 (0.1128)  loss_box_reg: 0.0763 (0.1477)  loss_objectness: 0.0673 (0.0943)  loss_rpn_box_reg: 0.0324 (0.1099)  time: 0.3628  data: 0.0113  max mem: 4490\n",
            "Epoch: [3]  [1400/1500]  eta: 0:00:35  lr: 0.000500  loss: 0.2841 (0.4611)  loss_classifier: 0.0754 (0.1123)  loss_box_reg: 0.0940 (0.1472)  loss_objectness: 0.0515 (0.0932)  loss_rpn_box_reg: 0.0308 (0.1084)  time: 0.3465  data: 0.0100  max mem: 4490\n",
            "Epoch: [3]  [1499/1500]  eta: 0:00:00  lr: 0.000500  loss: 0.3448 (0.4590)  loss_classifier: 0.0830 (0.1122)  loss_box_reg: 0.1250 (0.1473)  loss_objectness: 0.0670 (0.0925)  loss_rpn_box_reg: 0.0610 (0.1070)  time: 0.3408  data: 0.0095  max mem: 4490\n",
            "Epoch: [3] Total time: 0:08:45 (0.3501 s / it)\n",
            "creating index...\n",
            "index created!\n",
            "Test:  [  0/500]  eta: 0:02:36  model_time: 0.0797 (0.0797)  evaluator_time: 0.0028 (0.0028)  time: 0.3136  data: 0.2291  max mem: 4490\n",
            "Test:  [100/500]  eta: 0:00:21  model_time: 0.0396 (0.0391)  evaluator_time: 0.0013 (0.0056)  time: 0.0517  data: 0.0047  max mem: 4490\n",
            "Test:  [200/500]  eta: 0:00:15  model_time: 0.0400 (0.0386)  evaluator_time: 0.0020 (0.0054)  time: 0.0618  data: 0.0058  max mem: 4490\n",
            "Test:  [300/500]  eta: 0:00:10  model_time: 0.0435 (0.0397)  evaluator_time: 0.0073 (0.0063)  time: 0.0745  data: 0.0090  max mem: 4490\n",
            "Test:  [400/500]  eta: 0:00:05  model_time: 0.0389 (0.0394)  evaluator_time: 0.0017 (0.0062)  time: 0.0524  data: 0.0050  max mem: 4490\n",
            "Test:  [499/500]  eta: 0:00:00  model_time: 0.0390 (0.0392)  evaluator_time: 0.0015 (0.0059)  time: 0.0487  data: 0.0043  max mem: 4490\n",
            "Test: Total time: 0:00:26 (0.0533 s / it)\n",
            "Averaged stats: model_time: 0.0390 (0.0392)  evaluator_time: 0.0015 (0.0059)\n",
            "Accumulating evaluation results...\n",
            "DONE (t=0.23s).\n",
            "IoU metric: bbox\n",
            " Average Precision  (AP) @[ IoU=0.50:0.95 | area=   all | maxDets=100 ] = 0.234\n",
            " Average Precision  (AP) @[ IoU=0.50      | area=   all | maxDets=100 ] = 0.542\n",
            " Average Precision  (AP) @[ IoU=0.75      | area=   all | maxDets=100 ] = 0.168\n",
            " Average Precision  (AP) @[ IoU=0.50:0.95 | area= small | maxDets=100 ] = 0.033\n",
            " Average Precision  (AP) @[ IoU=0.50:0.95 | area=medium | maxDets=100 ] = 0.248\n",
            " Average Precision  (AP) @[ IoU=0.50:0.95 | area= large | maxDets=100 ] = 0.389\n",
            " Average Recall     (AR) @[ IoU=0.50:0.95 | area=   all | maxDets=  1 ] = 0.114\n",
            " Average Recall     (AR) @[ IoU=0.50:0.95 | area=   all | maxDets= 10 ] = 0.278\n",
            " Average Recall     (AR) @[ IoU=0.50:0.95 | area=   all | maxDets=100 ] = 0.329\n",
            " Average Recall     (AR) @[ IoU=0.50:0.95 | area= small | maxDets=100 ] = 0.105\n",
            " Average Recall     (AR) @[ IoU=0.50:0.95 | area=medium | maxDets=100 ] = 0.347\n",
            " Average Recall     (AR) @[ IoU=0.50:0.95 | area= large | maxDets=100 ] = 0.510\n",
            "Epoch: [4]  [   0/1500]  eta: 0:19:32  lr: 0.000500  loss: 0.2272 (0.2272)  loss_classifier: 0.0570 (0.0570)  loss_box_reg: 0.0597 (0.0597)  loss_objectness: 0.0745 (0.0745)  loss_rpn_box_reg: 0.0359 (0.0359)  time: 0.7817  data: 0.3910  max mem: 4490\n",
            "Epoch: [4]  [ 100/1500]  eta: 0:08:17  lr: 0.000500  loss: 0.3023 (0.4404)  loss_classifier: 0.0828 (0.1097)  loss_box_reg: 0.0925 (0.1429)  loss_objectness: 0.0500 (0.0843)  loss_rpn_box_reg: 0.0222 (0.1034)  time: 0.3595  data: 0.0110  max mem: 4490\n",
            "Epoch: [4]  [ 200/1500]  eta: 0:07:38  lr: 0.000500  loss: 0.4146 (0.4503)  loss_classifier: 0.0847 (0.1103)  loss_box_reg: 0.1062 (0.1423)  loss_objectness: 0.0661 (0.0867)  loss_rpn_box_reg: 0.0485 (0.1111)  time: 0.3641  data: 0.0127  max mem: 4490\n",
            "Epoch: [4]  [ 300/1500]  eta: 0:07:01  lr: 0.000500  loss: 0.4484 (0.4632)  loss_classifier: 0.1211 (0.1124)  loss_box_reg: 0.1265 (0.1480)  loss_objectness: 0.0834 (0.0900)  loss_rpn_box_reg: 0.0342 (0.1128)  time: 0.3466  data: 0.0125  max mem: 4490\n",
            "Epoch: [4]  [ 400/1500]  eta: 0:06:25  lr: 0.000500  loss: 0.2546 (0.4567)  loss_classifier: 0.0773 (0.1107)  loss_box_reg: 0.0989 (0.1447)  loss_objectness: 0.0683 (0.0894)  loss_rpn_box_reg: 0.0498 (0.1119)  time: 0.3546  data: 0.0130  max mem: 4490\n",
            "Epoch: [4]  [ 500/1500]  eta: 0:05:49  lr: 0.000500  loss: 0.2935 (0.4631)  loss_classifier: 0.0848 (0.1121)  loss_box_reg: 0.0940 (0.1472)  loss_objectness: 0.0594 (0.0892)  loss_rpn_box_reg: 0.0347 (0.1145)  time: 0.3508  data: 0.0100  max mem: 4490\n",
            "Epoch: [4]  [ 600/1500]  eta: 0:05:14  lr: 0.000500  loss: 0.2990 (0.4622)  loss_classifier: 0.0908 (0.1128)  loss_box_reg: 0.1171 (0.1488)  loss_objectness: 0.0570 (0.0884)  loss_rpn_box_reg: 0.0420 (0.1122)  time: 0.3342  data: 0.0098  max mem: 4490\n",
            "Epoch: [4]  [ 700/1500]  eta: 0:04:39  lr: 0.000500  loss: 0.3649 (0.4608)  loss_classifier: 0.1146 (0.1122)  loss_box_reg: 0.1541 (0.1480)  loss_objectness: 0.0670 (0.0872)  loss_rpn_box_reg: 0.0354 (0.1134)  time: 0.3504  data: 0.0110  max mem: 4490\n",
            "Epoch: [4]  [ 800/1500]  eta: 0:04:05  lr: 0.000500  loss: 0.3335 (0.4620)  loss_classifier: 0.0930 (0.1124)  loss_box_reg: 0.1220 (0.1477)  loss_objectness: 0.0691 (0.0874)  loss_rpn_box_reg: 0.0394 (0.1145)  time: 0.3497  data: 0.0125  max mem: 4490\n",
            "Epoch: [4]  [ 900/1500]  eta: 0:03:29  lr: 0.000500  loss: 0.3303 (0.4617)  loss_classifier: 0.0842 (0.1124)  loss_box_reg: 0.1023 (0.1475)  loss_objectness: 0.0614 (0.0883)  loss_rpn_box_reg: 0.0688 (0.1136)  time: 0.3464  data: 0.0115  max mem: 4490\n",
            "Epoch: [4]  [1000/1500]  eta: 0:02:55  lr: 0.000500  loss: 0.4282 (0.4610)  loss_classifier: 0.1039 (0.1125)  loss_box_reg: 0.1400 (0.1486)  loss_objectness: 0.0832 (0.0886)  loss_rpn_box_reg: 0.0832 (0.1114)  time: 0.3692  data: 0.0104  max mem: 4490\n",
            "Epoch: [4]  [1100/1500]  eta: 0:02:20  lr: 0.000500  loss: 0.3057 (0.4640)  loss_classifier: 0.0998 (0.1136)  loss_box_reg: 0.1435 (0.1496)  loss_objectness: 0.0663 (0.0887)  loss_rpn_box_reg: 0.0503 (0.1121)  time: 0.3507  data: 0.0120  max mem: 4490\n",
            "Epoch: [4]  [1200/1500]  eta: 0:01:45  lr: 0.000500  loss: 0.3936 (0.4635)  loss_classifier: 0.0968 (0.1142)  loss_box_reg: 0.1582 (0.1511)  loss_objectness: 0.0687 (0.0882)  loss_rpn_box_reg: 0.0502 (0.1101)  time: 0.3433  data: 0.0100  max mem: 4490\n",
            "Epoch: [4]  [1300/1500]  eta: 0:01:10  lr: 0.000500  loss: 0.2889 (0.4592)  loss_classifier: 0.0890 (0.1137)  loss_box_reg: 0.1189 (0.1502)  loss_objectness: 0.0736 (0.0876)  loss_rpn_box_reg: 0.0304 (0.1076)  time: 0.3408  data: 0.0101  max mem: 4490\n",
            "Epoch: [4]  [1400/1500]  eta: 0:00:35  lr: 0.000500  loss: 0.3791 (0.4554)  loss_classifier: 0.0933 (0.1133)  loss_box_reg: 0.1338 (0.1496)  loss_objectness: 0.0635 (0.0869)  loss_rpn_box_reg: 0.0296 (0.1056)  time: 0.3377  data: 0.0108  max mem: 4490\n",
            "Epoch: [4]  [1499/1500]  eta: 0:00:00  lr: 0.000500  loss: 0.3615 (0.4540)  loss_classifier: 0.0902 (0.1133)  loss_box_reg: 0.0906 (0.1495)  loss_objectness: 0.0640 (0.0864)  loss_rpn_box_reg: 0.0364 (0.1049)  time: 0.3560  data: 0.0102  max mem: 4490\n",
            "Epoch: [4] Total time: 0:08:45 (0.3504 s / it)\n",
            "creating index...\n",
            "index created!\n",
            "Test:  [  0/500]  eta: 0:02:32  model_time: 0.0812 (0.0812)  evaluator_time: 0.0040 (0.0040)  time: 0.3051  data: 0.2182  max mem: 4490\n",
            "Test:  [100/500]  eta: 0:00:21  model_time: 0.0398 (0.0389)  evaluator_time: 0.0013 (0.0059)  time: 0.0530  data: 0.0046  max mem: 4490\n",
            "Test:  [200/500]  eta: 0:00:17  model_time: 0.0421 (0.0402)  evaluator_time: 0.0027 (0.0073)  time: 0.0681  data: 0.0085  max mem: 4490\n",
            "Test:  [300/500]  eta: 0:00:10  model_time: 0.0353 (0.0395)  evaluator_time: 0.0046 (0.0065)  time: 0.0560  data: 0.0050  max mem: 4490\n",
            "Test:  [400/500]  eta: 0:00:05  model_time: 0.0395 (0.0394)  evaluator_time: 0.0016 (0.0063)  time: 0.0515  data: 0.0046  max mem: 4490\n",
            "Test:  [499/500]  eta: 0:00:00  model_time: 0.0400 (0.0395)  evaluator_time: 0.0023 (0.0068)  time: 0.0627  data: 0.0113  max mem: 4490\n",
            "Test: Total time: 0:00:28 (0.0561 s / it)\n",
            "Averaged stats: model_time: 0.0400 (0.0395)  evaluator_time: 0.0023 (0.0068)\n",
            "Accumulating evaluation results...\n",
            "DONE (t=0.24s).\n",
            "IoU metric: bbox\n",
            " Average Precision  (AP) @[ IoU=0.50:0.95 | area=   all | maxDets=100 ] = 0.242\n",
            " Average Precision  (AP) @[ IoU=0.50      | area=   all | maxDets=100 ] = 0.550\n",
            " Average Precision  (AP) @[ IoU=0.75      | area=   all | maxDets=100 ] = 0.184\n",
            " Average Precision  (AP) @[ IoU=0.50:0.95 | area= small | maxDets=100 ] = 0.033\n",
            " Average Precision  (AP) @[ IoU=0.50:0.95 | area=medium | maxDets=100 ] = 0.255\n",
            " Average Precision  (AP) @[ IoU=0.50:0.95 | area= large | maxDets=100 ] = 0.403\n",
            " Average Recall     (AR) @[ IoU=0.50:0.95 | area=   all | maxDets=  1 ] = 0.115\n",
            " Average Recall     (AR) @[ IoU=0.50:0.95 | area=   all | maxDets= 10 ] = 0.285\n",
            " Average Recall     (AR) @[ IoU=0.50:0.95 | area=   all | maxDets=100 ] = 0.336\n",
            " Average Recall     (AR) @[ IoU=0.50:0.95 | area= small | maxDets=100 ] = 0.108\n",
            " Average Recall     (AR) @[ IoU=0.50:0.95 | area=medium | maxDets=100 ] = 0.357\n",
            " Average Recall     (AR) @[ IoU=0.50:0.95 | area= large | maxDets=100 ] = 0.516\n",
            "Epoch: [5]  [   0/1500]  eta: 0:16:08  lr: 0.000500  loss: 0.5581 (0.5581)  loss_classifier: 0.1789 (0.1789)  loss_box_reg: 0.2968 (0.2968)  loss_objectness: 0.0648 (0.0648)  loss_rpn_box_reg: 0.0176 (0.0176)  time: 0.6458  data: 0.3254  max mem: 4490\n",
            "Epoch: [5]  [ 100/1500]  eta: 0:08:13  lr: 0.000500  loss: 0.3841 (0.4595)  loss_classifier: 0.1093 (0.1153)  loss_box_reg: 0.1341 (0.1647)  loss_objectness: 0.0822 (0.0871)  loss_rpn_box_reg: 0.0716 (0.0923)  time: 0.3548  data: 0.0120  max mem: 4490\n",
            "Epoch: [5]  [ 200/1500]  eta: 0:07:37  lr: 0.000500  loss: 0.3551 (0.4470)  loss_classifier: 0.0951 (0.1137)  loss_box_reg: 0.1214 (0.1562)  loss_objectness: 0.0662 (0.0817)  loss_rpn_box_reg: 0.0609 (0.0954)  time: 0.3518  data: 0.0106  max mem: 4490\n",
            "Epoch: [5]  [ 300/1500]  eta: 0:07:03  lr: 0.000500  loss: 0.2729 (0.4467)  loss_classifier: 0.0759 (0.1125)  loss_box_reg: 0.1053 (0.1547)  loss_objectness: 0.0495 (0.0830)  loss_rpn_box_reg: 0.0313 (0.0966)  time: 0.3547  data: 0.0097  max mem: 4490\n",
            "Epoch: [5]  [ 400/1500]  eta: 0:06:26  lr: 0.000500  loss: 0.2907 (0.4559)  loss_classifier: 0.0860 (0.1135)  loss_box_reg: 0.1087 (0.1541)  loss_objectness: 0.0608 (0.0854)  loss_rpn_box_reg: 0.0632 (0.1030)  time: 0.3471  data: 0.0098  max mem: 4490\n",
            "Epoch: [5]  [ 500/1500]  eta: 0:05:50  lr: 0.000500  loss: 0.3095 (0.4501)  loss_classifier: 0.0833 (0.1119)  loss_box_reg: 0.1084 (0.1514)  loss_objectness: 0.0532 (0.0842)  loss_rpn_box_reg: 0.0253 (0.1026)  time: 0.3335  data: 0.0099  max mem: 4493\n",
            "Epoch: [5]  [ 600/1500]  eta: 0:05:15  lr: 0.000500  loss: 0.2854 (0.4469)  loss_classifier: 0.0910 (0.1115)  loss_box_reg: 0.1088 (0.1499)  loss_objectness: 0.0461 (0.0827)  loss_rpn_box_reg: 0.0215 (0.1029)  time: 0.3543  data: 0.0103  max mem: 4493\n",
            "Epoch: [5]  [ 700/1500]  eta: 0:04:40  lr: 0.000500  loss: 0.4378 (0.4464)  loss_classifier: 0.1004 (0.1118)  loss_box_reg: 0.1364 (0.1500)  loss_objectness: 0.0720 (0.0838)  loss_rpn_box_reg: 0.0444 (0.1009)  time: 0.3661  data: 0.0133  max mem: 4493\n",
            "Epoch: [5]  [ 800/1500]  eta: 0:04:04  lr: 0.000500  loss: 0.3952 (0.4480)  loss_classifier: 0.1116 (0.1114)  loss_box_reg: 0.1291 (0.1483)  loss_objectness: 0.0781 (0.0841)  loss_rpn_box_reg: 0.0468 (0.1041)  time: 0.3556  data: 0.0109  max mem: 4493\n",
            "Epoch: [5]  [ 900/1500]  eta: 0:03:30  lr: 0.000500  loss: 0.4408 (0.4507)  loss_classifier: 0.1077 (0.1121)  loss_box_reg: 0.1093 (0.1491)  loss_objectness: 0.0670 (0.0849)  loss_rpn_box_reg: 0.0648 (0.1045)  time: 0.3625  data: 0.0109  max mem: 4493\n",
            "Epoch: [5]  [1000/1500]  eta: 0:02:55  lr: 0.000500  loss: 0.5331 (0.4523)  loss_classifier: 0.1155 (0.1127)  loss_box_reg: 0.1466 (0.1502)  loss_objectness: 0.0747 (0.0846)  loss_rpn_box_reg: 0.0744 (0.1048)  time: 0.3602  data: 0.0095  max mem: 4493\n",
            "Epoch: [5]  [1100/1500]  eta: 0:02:20  lr: 0.000500  loss: 0.2662 (0.4491)  loss_classifier: 0.0796 (0.1122)  loss_box_reg: 0.0978 (0.1497)  loss_objectness: 0.0446 (0.0838)  loss_rpn_box_reg: 0.0392 (0.1035)  time: 0.3518  data: 0.0108  max mem: 4493\n",
            "Epoch: [5]  [1200/1500]  eta: 0:01:45  lr: 0.000500  loss: 0.3664 (0.4481)  loss_classifier: 0.0914 (0.1122)  loss_box_reg: 0.1082 (0.1493)  loss_objectness: 0.0618 (0.0837)  loss_rpn_box_reg: 0.0504 (0.1030)  time: 0.3487  data: 0.0105  max mem: 4493\n",
            "Epoch: [5]  [1300/1500]  eta: 0:01:10  lr: 0.000500  loss: 0.3379 (0.4469)  loss_classifier: 0.0981 (0.1117)  loss_box_reg: 0.0920 (0.1482)  loss_objectness: 0.0638 (0.0832)  loss_rpn_box_reg: 0.0338 (0.1039)  time: 0.3521  data: 0.0129  max mem: 4493\n",
            "Epoch: [5]  [1400/1500]  eta: 0:00:35  lr: 0.000500  loss: 0.3779 (0.4465)  loss_classifier: 0.0878 (0.1121)  loss_box_reg: 0.1274 (0.1490)  loss_objectness: 0.0517 (0.0827)  loss_rpn_box_reg: 0.0559 (0.1028)  time: 0.3672  data: 0.0130  max mem: 4493\n",
            "Epoch: [5]  [1499/1500]  eta: 0:00:00  lr: 0.000500  loss: 0.4852 (0.4481)  loss_classifier: 0.1277 (0.1121)  loss_box_reg: 0.2157 (0.1489)  loss_objectness: 0.0620 (0.0830)  loss_rpn_box_reg: 0.0518 (0.1040)  time: 0.3591  data: 0.0121  max mem: 4493\n",
            "Epoch: [5] Total time: 0:08:46 (0.3513 s / it)\n",
            "creating index...\n",
            "index created!\n",
            "Test:  [  0/500]  eta: 0:04:10  model_time: 0.1257 (0.1257)  evaluator_time: 0.0050 (0.0050)  time: 0.5017  data: 0.3693  max mem: 4493\n",
            "Test:  [100/500]  eta: 0:00:26  model_time: 0.0376 (0.0421)  evaluator_time: 0.0013 (0.0086)  time: 0.0531  data: 0.0052  max mem: 4493\n",
            "Test:  [200/500]  eta: 0:00:17  model_time: 0.0382 (0.0400)  evaluator_time: 0.0015 (0.0067)  time: 0.0545  data: 0.0048  max mem: 4493\n",
            "Test:  [300/500]  eta: 0:00:11  model_time: 0.0403 (0.0398)  evaluator_time: 0.0099 (0.0071)  time: 0.0792  data: 0.0081  max mem: 4493\n",
            "Test:  [400/500]  eta: 0:00:05  model_time: 0.0384 (0.0403)  evaluator_time: 0.0016 (0.0076)  time: 0.0525  data: 0.0052  max mem: 4493\n",
            "Test:  [499/500]  eta: 0:00:00  model_time: 0.0380 (0.0399)  evaluator_time: 0.0013 (0.0071)  time: 0.0488  data: 0.0046  max mem: 4493\n",
            "Test: Total time: 0:00:28 (0.0563 s / it)\n",
            "Averaged stats: model_time: 0.0380 (0.0399)  evaluator_time: 0.0013 (0.0071)\n",
            "Accumulating evaluation results...\n",
            "DONE (t=0.14s).\n",
            "IoU metric: bbox\n",
            " Average Precision  (AP) @[ IoU=0.50:0.95 | area=   all | maxDets=100 ] = 0.241\n",
            " Average Precision  (AP) @[ IoU=0.50      | area=   all | maxDets=100 ] = 0.546\n",
            " Average Precision  (AP) @[ IoU=0.75      | area=   all | maxDets=100 ] = 0.175\n",
            " Average Precision  (AP) @[ IoU=0.50:0.95 | area= small | maxDets=100 ] = 0.027\n",
            " Average Precision  (AP) @[ IoU=0.50:0.95 | area=medium | maxDets=100 ] = 0.248\n",
            " Average Precision  (AP) @[ IoU=0.50:0.95 | area= large | maxDets=100 ] = 0.408\n",
            " Average Recall     (AR) @[ IoU=0.50:0.95 | area=   all | maxDets=  1 ] = 0.116\n",
            " Average Recall     (AR) @[ IoU=0.50:0.95 | area=   all | maxDets= 10 ] = 0.282\n",
            " Average Recall     (AR) @[ IoU=0.50:0.95 | area=   all | maxDets=100 ] = 0.330\n",
            " Average Recall     (AR) @[ IoU=0.50:0.95 | area= small | maxDets=100 ] = 0.113\n",
            " Average Recall     (AR) @[ IoU=0.50:0.95 | area=medium | maxDets=100 ] = 0.338\n",
            " Average Recall     (AR) @[ IoU=0.50:0.95 | area= large | maxDets=100 ] = 0.514\n",
            "Epoch: [6]  [   0/1500]  eta: 0:15:49  lr: 0.000050  loss: 0.1653 (0.1653)  loss_classifier: 0.0563 (0.0563)  loss_box_reg: 0.0635 (0.0635)  loss_objectness: 0.0398 (0.0398)  loss_rpn_box_reg: 0.0058 (0.0058)  time: 0.6332  data: 0.2841  max mem: 4493\n",
            "Epoch: [6]  [ 100/1500]  eta: 0:08:14  lr: 0.000050  loss: 0.3852 (0.4298)  loss_classifier: 0.1041 (0.1071)  loss_box_reg: 0.1404 (0.1414)  loss_objectness: 0.0699 (0.0785)  loss_rpn_box_reg: 0.0459 (0.1029)  time: 0.3561  data: 0.0097  max mem: 4493\n",
            "Epoch: [6]  [ 200/1500]  eta: 0:07:41  lr: 0.000050  loss: 0.2902 (0.4014)  loss_classifier: 0.0825 (0.1004)  loss_box_reg: 0.1112 (0.1308)  loss_objectness: 0.0549 (0.0712)  loss_rpn_box_reg: 0.0155 (0.0989)  time: 0.3486  data: 0.0110  max mem: 4493\n",
            "Epoch: [6]  [ 300/1500]  eta: 0:07:05  lr: 0.000050  loss: 0.2916 (0.4028)  loss_classifier: 0.0842 (0.1034)  loss_box_reg: 0.1086 (0.1371)  loss_objectness: 0.0455 (0.0721)  loss_rpn_box_reg: 0.0339 (0.0902)  time: 0.3671  data: 0.0117  max mem: 4493\n",
            "Epoch: [6]  [ 400/1500]  eta: 0:06:28  lr: 0.000050  loss: 0.3706 (0.4122)  loss_classifier: 0.1102 (0.1037)  loss_box_reg: 0.1357 (0.1380)  loss_objectness: 0.0669 (0.0731)  loss_rpn_box_reg: 0.0411 (0.0974)  time: 0.3689  data: 0.0127  max mem: 4493\n",
            "Epoch: [6]  [ 500/1500]  eta: 0:05:52  lr: 0.000050  loss: 0.3495 (0.4153)  loss_classifier: 0.1191 (0.1047)  loss_box_reg: 0.1269 (0.1399)  loss_objectness: 0.0604 (0.0739)  loss_rpn_box_reg: 0.0464 (0.0967)  time: 0.3425  data: 0.0100  max mem: 4493\n",
            "Epoch: [6]  [ 600/1500]  eta: 0:05:17  lr: 0.000050  loss: 0.4183 (0.4171)  loss_classifier: 0.0983 (0.1050)  loss_box_reg: 0.1325 (0.1403)  loss_objectness: 0.0674 (0.0740)  loss_rpn_box_reg: 0.0437 (0.0978)  time: 0.3503  data: 0.0102  max mem: 4493\n",
            "Epoch: [6]  [ 700/1500]  eta: 0:04:42  lr: 0.000050  loss: 0.2864 (0.4212)  loss_classifier: 0.0849 (0.1067)  loss_box_reg: 0.1198 (0.1428)  loss_objectness: 0.0608 (0.0749)  loss_rpn_box_reg: 0.0190 (0.0967)  time: 0.3459  data: 0.0094  max mem: 4493\n",
            "Epoch: [6]  [ 800/1500]  eta: 0:04:07  lr: 0.000050  loss: 0.4021 (0.4245)  loss_classifier: 0.0901 (0.1071)  loss_box_reg: 0.1038 (0.1439)  loss_objectness: 0.0652 (0.0757)  loss_rpn_box_reg: 0.0309 (0.0978)  time: 0.3484  data: 0.0106  max mem: 4493\n",
            "Epoch: [6]  [ 900/1500]  eta: 0:03:31  lr: 0.000050  loss: 0.3746 (0.4310)  loss_classifier: 0.1014 (0.1083)  loss_box_reg: 0.1219 (0.1462)  loss_objectness: 0.0766 (0.0765)  loss_rpn_box_reg: 0.0557 (0.1000)  time: 0.3414  data: 0.0101  max mem: 4493\n",
            "Epoch: [6]  [1000/1500]  eta: 0:02:56  lr: 0.000050  loss: 0.4998 (0.4320)  loss_classifier: 0.1250 (0.1086)  loss_box_reg: 0.1566 (0.1463)  loss_objectness: 0.0729 (0.0768)  loss_rpn_box_reg: 0.0762 (0.1004)  time: 0.3715  data: 0.0152  max mem: 4493\n",
            "Epoch: [6]  [1100/1500]  eta: 0:02:21  lr: 0.000050  loss: 0.4119 (0.4343)  loss_classifier: 0.0964 (0.1093)  loss_box_reg: 0.1273 (0.1474)  loss_objectness: 0.0739 (0.0774)  loss_rpn_box_reg: 0.0560 (0.1002)  time: 0.3535  data: 0.0117  max mem: 4493\n",
            "Epoch: [6]  [1200/1500]  eta: 0:01:45  lr: 0.000050  loss: 0.2821 (0.4309)  loss_classifier: 0.0769 (0.1088)  loss_box_reg: 0.0991 (0.1466)  loss_objectness: 0.0625 (0.0765)  loss_rpn_box_reg: 0.0271 (0.0990)  time: 0.3496  data: 0.0107  max mem: 4493\n",
            "Epoch: [6]  [1300/1500]  eta: 0:01:10  lr: 0.000050  loss: 0.3557 (0.4316)  loss_classifier: 0.0795 (0.1085)  loss_box_reg: 0.1221 (0.1458)  loss_objectness: 0.0593 (0.0780)  loss_rpn_box_reg: 0.0361 (0.0993)  time: 0.3422  data: 0.0102  max mem: 4493\n",
            "Epoch: [6]  [1400/1500]  eta: 0:00:35  lr: 0.000050  loss: 0.3850 (0.4335)  loss_classifier: 0.1001 (0.1091)  loss_box_reg: 0.1054 (0.1465)  loss_objectness: 0.0695 (0.0784)  loss_rpn_box_reg: 0.0548 (0.0994)  time: 0.3407  data: 0.0098  max mem: 4493\n",
            "Epoch: [6]  [1499/1500]  eta: 0:00:00  lr: 0.000050  loss: 0.3159 (0.4369)  loss_classifier: 0.0891 (0.1096)  loss_box_reg: 0.1051 (0.1473)  loss_objectness: 0.0577 (0.0791)  loss_rpn_box_reg: 0.0423 (0.1010)  time: 0.3354  data: 0.0096  max mem: 4493\n",
            "Epoch: [6] Total time: 0:08:47 (0.3516 s / it)\n",
            "creating index...\n",
            "index created!\n",
            "Test:  [  0/500]  eta: 0:02:42  model_time: 0.0803 (0.0803)  evaluator_time: 0.0038 (0.0038)  time: 0.3251  data: 0.2388  max mem: 4493\n",
            "Test:  [100/500]  eta: 0:00:21  model_time: 0.0394 (0.0391)  evaluator_time: 0.0016 (0.0061)  time: 0.0528  data: 0.0048  max mem: 4493\n",
            "Test:  [200/500]  eta: 0:00:16  model_time: 0.0431 (0.0394)  evaluator_time: 0.0028 (0.0072)  time: 0.0709  data: 0.0100  max mem: 4493\n",
            "Test:  [300/500]  eta: 0:00:11  model_time: 0.0377 (0.0395)  evaluator_time: 0.0044 (0.0067)  time: 0.0567  data: 0.0052  max mem: 4493\n",
            "Test:  [400/500]  eta: 0:00:05  model_time: 0.0387 (0.0392)  evaluator_time: 0.0019 (0.0065)  time: 0.0522  data: 0.0053  max mem: 4493\n",
            "Test:  [499/500]  eta: 0:00:00  model_time: 0.0395 (0.0393)  evaluator_time: 0.0024 (0.0070)  time: 0.0632  data: 0.0088  max mem: 4493\n",
            "Test: Total time: 0:00:27 (0.0557 s / it)\n",
            "Averaged stats: model_time: 0.0395 (0.0393)  evaluator_time: 0.0024 (0.0070)\n",
            "Accumulating evaluation results...\n",
            "DONE (t=0.27s).\n",
            "IoU metric: bbox\n",
            " Average Precision  (AP) @[ IoU=0.50:0.95 | area=   all | maxDets=100 ] = 0.244\n",
            " Average Precision  (AP) @[ IoU=0.50      | area=   all | maxDets=100 ] = 0.552\n",
            " Average Precision  (AP) @[ IoU=0.75      | area=   all | maxDets=100 ] = 0.188\n",
            " Average Precision  (AP) @[ IoU=0.50:0.95 | area= small | maxDets=100 ] = 0.032\n",
            " Average Precision  (AP) @[ IoU=0.50:0.95 | area=medium | maxDets=100 ] = 0.253\n",
            " Average Precision  (AP) @[ IoU=0.50:0.95 | area= large | maxDets=100 ] = 0.406\n",
            " Average Recall     (AR) @[ IoU=0.50:0.95 | area=   all | maxDets=  1 ] = 0.117\n",
            " Average Recall     (AR) @[ IoU=0.50:0.95 | area=   all | maxDets= 10 ] = 0.285\n",
            " Average Recall     (AR) @[ IoU=0.50:0.95 | area=   all | maxDets=100 ] = 0.337\n",
            " Average Recall     (AR) @[ IoU=0.50:0.95 | area= small | maxDets=100 ] = 0.119\n",
            " Average Recall     (AR) @[ IoU=0.50:0.95 | area=medium | maxDets=100 ] = 0.348\n",
            " Average Recall     (AR) @[ IoU=0.50:0.95 | area= large | maxDets=100 ] = 0.520\n",
            "Epoch: [7]  [   0/1500]  eta: 0:20:54  lr: 0.000050  loss: 0.7328 (0.7328)  loss_classifier: 0.2030 (0.2030)  loss_box_reg: 0.2678 (0.2678)  loss_objectness: 0.0892 (0.0892)  loss_rpn_box_reg: 0.1728 (0.1728)  time: 0.8361  data: 0.3969  max mem: 4493\n",
            "Epoch: [7]  [ 100/1500]  eta: 0:08:13  lr: 0.000050  loss: 0.3411 (0.4381)  loss_classifier: 0.1073 (0.1130)  loss_box_reg: 0.1105 (0.1559)  loss_objectness: 0.0615 (0.0800)  loss_rpn_box_reg: 0.0570 (0.0892)  time: 0.3492  data: 0.0117  max mem: 4493\n",
            "Epoch: [7]  [ 200/1500]  eta: 0:07:41  lr: 0.000050  loss: 0.2512 (0.4174)  loss_classifier: 0.0760 (0.1073)  loss_box_reg: 0.1045 (0.1445)  loss_objectness: 0.0380 (0.0758)  loss_rpn_box_reg: 0.0152 (0.0898)  time: 0.3671  data: 0.0127  max mem: 4493\n",
            "Epoch: [7]  [ 300/1500]  eta: 0:07:04  lr: 0.000050  loss: 0.3214 (0.4210)  loss_classifier: 0.0832 (0.1067)  loss_box_reg: 0.0905 (0.1456)  loss_objectness: 0.0581 (0.0756)  loss_rpn_box_reg: 0.0461 (0.0932)  time: 0.3553  data: 0.0100  max mem: 4493\n",
            "Epoch: [7]  [ 400/1500]  eta: 0:06:28  lr: 0.000050  loss: 0.2798 (0.4249)  loss_classifier: 0.0727 (0.1081)  loss_box_reg: 0.0789 (0.1472)  loss_objectness: 0.0556 (0.0774)  loss_rpn_box_reg: 0.0646 (0.0922)  time: 0.3368  data: 0.0100  max mem: 4493\n",
            "Epoch: [7]  [ 500/1500]  eta: 0:05:52  lr: 0.000050  loss: 0.3213 (0.4206)  loss_classifier: 0.0895 (0.1072)  loss_box_reg: 0.1255 (0.1460)  loss_objectness: 0.0555 (0.0770)  loss_rpn_box_reg: 0.0463 (0.0904)  time: 0.3438  data: 0.0103  max mem: 4493\n",
            "Epoch: [7]  [ 600/1500]  eta: 0:05:17  lr: 0.000050  loss: 0.4568 (0.4282)  loss_classifier: 0.0968 (0.1087)  loss_box_reg: 0.1670 (0.1478)  loss_objectness: 0.0690 (0.0772)  loss_rpn_box_reg: 0.0862 (0.0945)  time: 0.3470  data: 0.0107  max mem: 4493\n",
            "Epoch: [7]  [ 700/1500]  eta: 0:04:41  lr: 0.000050  loss: 0.5056 (0.4310)  loss_classifier: 0.1221 (0.1085)  loss_box_reg: 0.1899 (0.1465)  loss_objectness: 0.0782 (0.0777)  loss_rpn_box_reg: 0.0501 (0.0983)  time: 0.3637  data: 0.0113  max mem: 4493\n",
            "Epoch: [7]  [ 800/1500]  eta: 0:04:06  lr: 0.000050  loss: 0.4182 (0.4296)  loss_classifier: 0.1106 (0.1086)  loss_box_reg: 0.1602 (0.1466)  loss_objectness: 0.0700 (0.0771)  loss_rpn_box_reg: 0.0588 (0.0973)  time: 0.3480  data: 0.0117  max mem: 4493\n",
            "Epoch: [7]  [ 900/1500]  eta: 0:03:31  lr: 0.000050  loss: 0.3812 (0.4303)  loss_classifier: 0.0834 (0.1086)  loss_box_reg: 0.0775 (0.1466)  loss_objectness: 0.0534 (0.0767)  loss_rpn_box_reg: 0.0573 (0.0983)  time: 0.3448  data: 0.0101  max mem: 4493\n",
            "Epoch: [7]  [1000/1500]  eta: 0:02:56  lr: 0.000050  loss: 0.3596 (0.4316)  loss_classifier: 0.1056 (0.1090)  loss_box_reg: 0.1334 (0.1475)  loss_objectness: 0.0706 (0.0771)  loss_rpn_box_reg: 0.0601 (0.0980)  time: 0.3497  data: 0.0095  max mem: 4493\n",
            "Epoch: [7]  [1100/1500]  eta: 0:02:20  lr: 0.000050  loss: 0.4360 (0.4365)  loss_classifier: 0.1101 (0.1101)  loss_box_reg: 0.1328 (0.1490)  loss_objectness: 0.0646 (0.0784)  loss_rpn_box_reg: 0.0554 (0.0990)  time: 0.3586  data: 0.0102  max mem: 4493\n",
            "Epoch: [7]  [1200/1500]  eta: 0:01:45  lr: 0.000050  loss: 0.4138 (0.4376)  loss_classifier: 0.0970 (0.1103)  loss_box_reg: 0.1229 (0.1487)  loss_objectness: 0.0890 (0.0788)  loss_rpn_box_reg: 0.0564 (0.0998)  time: 0.3423  data: 0.0132  max mem: 4493\n",
            "Epoch: [7]  [1300/1500]  eta: 0:01:10  lr: 0.000050  loss: 0.4486 (0.4406)  loss_classifier: 0.1380 (0.1110)  loss_box_reg: 0.1884 (0.1495)  loss_objectness: 0.0645 (0.0789)  loss_rpn_box_reg: 0.0845 (0.1012)  time: 0.3563  data: 0.0126  max mem: 4493\n",
            "Epoch: [7]  [1400/1500]  eta: 0:00:35  lr: 0.000050  loss: 0.3626 (0.4384)  loss_classifier: 0.0821 (0.1101)  loss_box_reg: 0.0938 (0.1476)  loss_objectness: 0.0639 (0.0790)  loss_rpn_box_reg: 0.0387 (0.1017)  time: 0.3472  data: 0.0105  max mem: 4493\n",
            "Epoch: [7]  [1499/1500]  eta: 0:00:00  lr: 0.000050  loss: 0.3182 (0.4372)  loss_classifier: 0.0922 (0.1099)  loss_box_reg: 0.1448 (0.1472)  loss_objectness: 0.0433 (0.0789)  loss_rpn_box_reg: 0.0191 (0.1012)  time: 0.3464  data: 0.0114  max mem: 4493\n",
            "Epoch: [7] Total time: 0:08:47 (0.3514 s / it)\n",
            "creating index...\n",
            "index created!\n",
            "Test:  [  0/500]  eta: 0:02:44  model_time: 0.0817 (0.0817)  evaluator_time: 0.0043 (0.0043)  time: 0.3295  data: 0.2413  max mem: 4493\n",
            "Test:  [100/500]  eta: 0:00:26  model_time: 0.0447 (0.0422)  evaluator_time: 0.0020 (0.0112)  time: 0.0675  data: 0.0093  max mem: 4493\n",
            "Test:  [200/500]  eta: 0:00:17  model_time: 0.0391 (0.0402)  evaluator_time: 0.0015 (0.0082)  time: 0.0533  data: 0.0046  max mem: 4493\n",
            "Test:  [300/500]  eta: 0:00:11  model_time: 0.0365 (0.0393)  evaluator_time: 0.0039 (0.0070)  time: 0.0568  data: 0.0051  max mem: 4493\n",
            "Test:  [400/500]  eta: 0:00:05  model_time: 0.0409 (0.0398)  evaluator_time: 0.0030 (0.0079)  time: 0.0637  data: 0.0103  max mem: 4493\n",
            "Test:  [499/500]  eta: 0:00:00  model_time: 0.0395 (0.0397)  evaluator_time: 0.0014 (0.0076)  time: 0.0498  data: 0.0048  max mem: 4493\n",
            "Test: Total time: 0:00:28 (0.0567 s / it)\n",
            "Averaged stats: model_time: 0.0395 (0.0397)  evaluator_time: 0.0014 (0.0076)\n",
            "Accumulating evaluation results...\n",
            "DONE (t=0.14s).\n",
            "IoU metric: bbox\n",
            " Average Precision  (AP) @[ IoU=0.50:0.95 | area=   all | maxDets=100 ] = 0.245\n",
            " Average Precision  (AP) @[ IoU=0.50      | area=   all | maxDets=100 ] = 0.552\n",
            " Average Precision  (AP) @[ IoU=0.75      | area=   all | maxDets=100 ] = 0.194\n",
            " Average Precision  (AP) @[ IoU=0.50:0.95 | area= small | maxDets=100 ] = 0.035\n",
            " Average Precision  (AP) @[ IoU=0.50:0.95 | area=medium | maxDets=100 ] = 0.254\n",
            " Average Precision  (AP) @[ IoU=0.50:0.95 | area= large | maxDets=100 ] = 0.410\n",
            " Average Recall     (AR) @[ IoU=0.50:0.95 | area=   all | maxDets=  1 ] = 0.118\n",
            " Average Recall     (AR) @[ IoU=0.50:0.95 | area=   all | maxDets= 10 ] = 0.289\n",
            " Average Recall     (AR) @[ IoU=0.50:0.95 | area=   all | maxDets=100 ] = 0.337\n",
            " Average Recall     (AR) @[ IoU=0.50:0.95 | area= small | maxDets=100 ] = 0.112\n",
            " Average Recall     (AR) @[ IoU=0.50:0.95 | area=medium | maxDets=100 ] = 0.353\n",
            " Average Recall     (AR) @[ IoU=0.50:0.95 | area= large | maxDets=100 ] = 0.522\n",
            "Epoch: [8]  [   0/1500]  eta: 0:17:37  lr: 0.000050  loss: 0.5714 (0.5714)  loss_classifier: 0.1304 (0.1304)  loss_box_reg: 0.1837 (0.1837)  loss_objectness: 0.1962 (0.1962)  loss_rpn_box_reg: 0.0611 (0.0611)  time: 0.7051  data: 0.3693  max mem: 4493\n",
            "Epoch: [8]  [ 100/1500]  eta: 0:08:18  lr: 0.000050  loss: 0.3925 (0.4333)  loss_classifier: 0.1046 (0.1102)  loss_box_reg: 0.1607 (0.1497)  loss_objectness: 0.0748 (0.0804)  loss_rpn_box_reg: 0.0585 (0.0929)  time: 0.3363  data: 0.0098  max mem: 4493\n",
            "Epoch: [8]  [ 200/1500]  eta: 0:07:39  lr: 0.000050  loss: 0.3185 (0.4524)  loss_classifier: 0.0967 (0.1115)  loss_box_reg: 0.1279 (0.1482)  loss_objectness: 0.0551 (0.0800)  loss_rpn_box_reg: 0.0424 (0.1126)  time: 0.3494  data: 0.0093  max mem: 4493\n",
            "Epoch: [8]  [ 300/1500]  eta: 0:07:01  lr: 0.000050  loss: 0.3577 (0.4406)  loss_classifier: 0.0712 (0.1081)  loss_box_reg: 0.0891 (0.1438)  loss_objectness: 0.0517 (0.0769)  loss_rpn_box_reg: 0.0639 (0.1118)  time: 0.3544  data: 0.0119  max mem: 4493\n",
            "Epoch: [8]  [ 400/1500]  eta: 0:06:26  lr: 0.000050  loss: 0.4255 (0.4489)  loss_classifier: 0.1085 (0.1090)  loss_box_reg: 0.1457 (0.1454)  loss_objectness: 0.0715 (0.0786)  loss_rpn_box_reg: 0.0518 (0.1158)  time: 0.3686  data: 0.0125  max mem: 4493\n",
            "Epoch: [8]  [ 500/1500]  eta: 0:05:51  lr: 0.000050  loss: 0.4642 (0.4506)  loss_classifier: 0.0893 (0.1104)  loss_box_reg: 0.1273 (0.1485)  loss_objectness: 0.0524 (0.0781)  loss_rpn_box_reg: 0.0508 (0.1137)  time: 0.3672  data: 0.0112  max mem: 4493\n",
            "Epoch: [8]  [ 600/1500]  eta: 0:05:16  lr: 0.000050  loss: 0.4889 (0.4500)  loss_classifier: 0.1085 (0.1113)  loss_box_reg: 0.1480 (0.1501)  loss_objectness: 0.0822 (0.0785)  loss_rpn_box_reg: 0.0791 (0.1101)  time: 0.3569  data: 0.0128  max mem: 4493\n",
            "Epoch: [8]  [ 700/1500]  eta: 0:04:41  lr: 0.000050  loss: 0.2867 (0.4470)  loss_classifier: 0.0686 (0.1107)  loss_box_reg: 0.0932 (0.1490)  loss_objectness: 0.0587 (0.0795)  loss_rpn_box_reg: 0.0268 (0.1078)  time: 0.3613  data: 0.0102  max mem: 4493\n",
            "Epoch: [8]  [ 800/1500]  eta: 0:04:05  lr: 0.000050  loss: 0.4427 (0.4442)  loss_classifier: 0.0929 (0.1108)  loss_box_reg: 0.1279 (0.1497)  loss_objectness: 0.0679 (0.0791)  loss_rpn_box_reg: 0.0841 (0.1047)  time: 0.3408  data: 0.0093  max mem: 4493\n",
            "Epoch: [8]  [ 900/1500]  eta: 0:03:30  lr: 0.000050  loss: 0.3063 (0.4377)  loss_classifier: 0.0849 (0.1100)  loss_box_reg: 0.1038 (0.1481)  loss_objectness: 0.0528 (0.0787)  loss_rpn_box_reg: 0.0631 (0.1009)  time: 0.3432  data: 0.0092  max mem: 4493\n",
            "Epoch: [8]  [1000/1500]  eta: 0:02:55  lr: 0.000050  loss: 0.3007 (0.4384)  loss_classifier: 0.0922 (0.1108)  loss_box_reg: 0.0974 (0.1499)  loss_objectness: 0.0576 (0.0784)  loss_rpn_box_reg: 0.0398 (0.0993)  time: 0.3568  data: 0.0106  max mem: 4493\n",
            "Epoch: [8]  [1100/1500]  eta: 0:02:20  lr: 0.000050  loss: 0.3295 (0.4369)  loss_classifier: 0.0912 (0.1105)  loss_box_reg: 0.1101 (0.1497)  loss_objectness: 0.0536 (0.0781)  loss_rpn_box_reg: 0.0438 (0.0986)  time: 0.3594  data: 0.0104  max mem: 4493\n",
            "Epoch: [8]  [1200/1500]  eta: 0:01:45  lr: 0.000050  loss: 0.3512 (0.4348)  loss_classifier: 0.1053 (0.1104)  loss_box_reg: 0.1453 (0.1492)  loss_objectness: 0.0608 (0.0782)  loss_rpn_box_reg: 0.0575 (0.0970)  time: 0.3546  data: 0.0121  max mem: 4493\n",
            "Epoch: [8]  [1300/1500]  eta: 0:01:10  lr: 0.000050  loss: 0.3782 (0.4353)  loss_classifier: 0.1012 (0.1101)  loss_box_reg: 0.1416 (0.1485)  loss_objectness: 0.0556 (0.0780)  loss_rpn_box_reg: 0.0472 (0.0987)  time: 0.3599  data: 0.0127  max mem: 4493\n",
            "Epoch: [8]  [1400/1500]  eta: 0:00:35  lr: 0.000050  loss: 0.2542 (0.4359)  loss_classifier: 0.0739 (0.1099)  loss_box_reg: 0.0926 (0.1477)  loss_objectness: 0.0693 (0.0787)  loss_rpn_box_reg: 0.0339 (0.0996)  time: 0.3390  data: 0.0102  max mem: 4493\n",
            "Epoch: [8]  [1499/1500]  eta: 0:00:00  lr: 0.000050  loss: 0.2941 (0.4375)  loss_classifier: 0.0716 (0.1100)  loss_box_reg: 0.0964 (0.1475)  loss_objectness: 0.0523 (0.0789)  loss_rpn_box_reg: 0.0290 (0.1012)  time: 0.3559  data: 0.0091  max mem: 4493\n",
            "Epoch: [8] Total time: 0:08:46 (0.3509 s / it)\n",
            "creating index...\n",
            "index created!\n",
            "Test:  [  0/500]  eta: 0:03:49  model_time: 0.0857 (0.0857)  evaluator_time: 0.0068 (0.0068)  time: 0.4581  data: 0.3635  max mem: 4493\n",
            "Test:  [100/500]  eta: 0:00:22  model_time: 0.0392 (0.0396)  evaluator_time: 0.0016 (0.0063)  time: 0.0519  data: 0.0048  max mem: 4493\n",
            "Test:  [200/500]  eta: 0:00:15  model_time: 0.0406 (0.0387)  evaluator_time: 0.0015 (0.0055)  time: 0.0534  data: 0.0043  max mem: 4493\n",
            "Test:  [300/500]  eta: 0:00:10  model_time: 0.0413 (0.0396)  evaluator_time: 0.0081 (0.0065)  time: 0.0778  data: 0.0092  max mem: 4493\n",
            "Test:  [400/500]  eta: 0:00:05  model_time: 0.0392 (0.0396)  evaluator_time: 0.0016 (0.0065)  time: 0.0527  data: 0.0050  max mem: 4493\n",
            "Test:  [499/500]  eta: 0:00:00  model_time: 0.0382 (0.0394)  evaluator_time: 0.0014 (0.0067)  time: 0.0499  data: 0.0049  max mem: 4493\n",
            "Test: Total time: 0:00:27 (0.0546 s / it)\n",
            "Averaged stats: model_time: 0.0382 (0.0394)  evaluator_time: 0.0014 (0.0067)\n",
            "Accumulating evaluation results...\n",
            "DONE (t=0.14s).\n",
            "IoU metric: bbox\n",
            " Average Precision  (AP) @[ IoU=0.50:0.95 | area=   all | maxDets=100 ] = 0.243\n",
            " Average Precision  (AP) @[ IoU=0.50      | area=   all | maxDets=100 ] = 0.553\n",
            " Average Precision  (AP) @[ IoU=0.75      | area=   all | maxDets=100 ] = 0.191\n",
            " Average Precision  (AP) @[ IoU=0.50:0.95 | area= small | maxDets=100 ] = 0.034\n",
            " Average Precision  (AP) @[ IoU=0.50:0.95 | area=medium | maxDets=100 ] = 0.253\n",
            " Average Precision  (AP) @[ IoU=0.50:0.95 | area= large | maxDets=100 ] = 0.407\n",
            " Average Recall     (AR) @[ IoU=0.50:0.95 | area=   all | maxDets=  1 ] = 0.116\n",
            " Average Recall     (AR) @[ IoU=0.50:0.95 | area=   all | maxDets= 10 ] = 0.289\n",
            " Average Recall     (AR) @[ IoU=0.50:0.95 | area=   all | maxDets=100 ] = 0.338\n",
            " Average Recall     (AR) @[ IoU=0.50:0.95 | area= small | maxDets=100 ] = 0.120\n",
            " Average Recall     (AR) @[ IoU=0.50:0.95 | area=medium | maxDets=100 ] = 0.350\n",
            " Average Recall     (AR) @[ IoU=0.50:0.95 | area= large | maxDets=100 ] = 0.521\n",
            "Epoch: [9]  [   0/1500]  eta: 0:16:32  lr: 0.000005  loss: 0.4889 (0.4889)  loss_classifier: 0.0998 (0.0998)  loss_box_reg: 0.1084 (0.1084)  loss_objectness: 0.2287 (0.2287)  loss_rpn_box_reg: 0.0521 (0.0521)  time: 0.6616  data: 0.3047  max mem: 4493\n",
            "Epoch: [9]  [ 100/1500]  eta: 0:08:17  lr: 0.000005  loss: 0.3592 (0.4327)  loss_classifier: 0.0946 (0.1045)  loss_box_reg: 0.1427 (0.1381)  loss_objectness: 0.0488 (0.0724)  loss_rpn_box_reg: 0.0341 (0.1177)  time: 0.3539  data: 0.0124  max mem: 4493\n",
            "Epoch: [9]  [ 200/1500]  eta: 0:07:39  lr: 0.000005  loss: 0.3283 (0.4378)  loss_classifier: 0.0844 (0.1090)  loss_box_reg: 0.1105 (0.1451)  loss_objectness: 0.0647 (0.0794)  loss_rpn_box_reg: 0.0358 (0.1043)  time: 0.3591  data: 0.0117  max mem: 4493\n",
            "Epoch: [9]  [ 300/1500]  eta: 0:07:02  lr: 0.000005  loss: 0.2684 (0.4387)  loss_classifier: 0.0912 (0.1095)  loss_box_reg: 0.1227 (0.1474)  loss_objectness: 0.0732 (0.0774)  loss_rpn_box_reg: 0.0324 (0.1043)  time: 0.3532  data: 0.0121  max mem: 4493\n",
            "Epoch: [9]  [ 400/1500]  eta: 0:06:27  lr: 0.000005  loss: 0.3392 (0.4398)  loss_classifier: 0.0943 (0.1100)  loss_box_reg: 0.1320 (0.1483)  loss_objectness: 0.0540 (0.0789)  loss_rpn_box_reg: 0.0395 (0.1026)  time: 0.3600  data: 0.0134  max mem: 4493\n",
            "Epoch: [9]  [ 500/1500]  eta: 0:05:51  lr: 0.000005  loss: 0.2939 (0.4470)  loss_classifier: 0.0827 (0.1116)  loss_box_reg: 0.0887 (0.1498)  loss_objectness: 0.0699 (0.0798)  loss_rpn_box_reg: 0.0270 (0.1058)  time: 0.3386  data: 0.0097  max mem: 4493\n",
            "Epoch: [9]  [ 600/1500]  eta: 0:05:16  lr: 0.000005  loss: 0.2483 (0.4404)  loss_classifier: 0.0701 (0.1096)  loss_box_reg: 0.0674 (0.1462)  loss_objectness: 0.0533 (0.0792)  loss_rpn_box_reg: 0.0308 (0.1055)  time: 0.3409  data: 0.0091  max mem: 4493\n",
            "Epoch: [9]  [ 700/1500]  eta: 0:04:41  lr: 0.000005  loss: 0.3350 (0.4379)  loss_classifier: 0.1034 (0.1085)  loss_box_reg: 0.1053 (0.1448)  loss_objectness: 0.0486 (0.0782)  loss_rpn_box_reg: 0.0517 (0.1062)  time: 0.3393  data: 0.0095  max mem: 4493\n",
            "Epoch: [9]  [ 800/1500]  eta: 0:04:06  lr: 0.000005  loss: 0.3175 (0.4364)  loss_classifier: 0.0756 (0.1085)  loss_box_reg: 0.1335 (0.1452)  loss_objectness: 0.0552 (0.0771)  loss_rpn_box_reg: 0.0428 (0.1056)  time: 0.3409  data: 0.0104  max mem: 4493\n",
            "Epoch: [9]  [ 900/1500]  eta: 0:03:30  lr: 0.000005  loss: 0.3045 (0.4381)  loss_classifier: 0.0757 (0.1090)  loss_box_reg: 0.1230 (0.1469)  loss_objectness: 0.0569 (0.0773)  loss_rpn_box_reg: 0.0485 (0.1049)  time: 0.3491  data: 0.0111  max mem: 4493\n",
            "Epoch: [9]  [1000/1500]  eta: 0:02:55  lr: 0.000005  loss: 0.3646 (0.4424)  loss_classifier: 0.0914 (0.1096)  loss_box_reg: 0.1226 (0.1472)  loss_objectness: 0.0982 (0.0781)  loss_rpn_box_reg: 0.0736 (0.1075)  time: 0.3551  data: 0.0127  max mem: 4493\n",
            "Epoch: [9]  [1100/1500]  eta: 0:02:20  lr: 0.000005  loss: 0.3421 (0.4398)  loss_classifier: 0.1045 (0.1099)  loss_box_reg: 0.1174 (0.1475)  loss_objectness: 0.0514 (0.0780)  loss_rpn_box_reg: 0.0287 (0.1044)  time: 0.3536  data: 0.0129  max mem: 4493\n",
            "Epoch: [9]  [1200/1500]  eta: 0:01:45  lr: 0.000005  loss: 0.4459 (0.4394)  loss_classifier: 0.1349 (0.1102)  loss_box_reg: 0.1626 (0.1481)  loss_objectness: 0.0688 (0.0779)  loss_rpn_box_reg: 0.0341 (0.1032)  time: 0.3473  data: 0.0103  max mem: 4493\n",
            "Epoch: [9]  [1300/1500]  eta: 0:01:10  lr: 0.000005  loss: 0.2525 (0.4388)  loss_classifier: 0.0597 (0.1100)  loss_box_reg: 0.0900 (0.1479)  loss_objectness: 0.0493 (0.0781)  loss_rpn_box_reg: 0.0315 (0.1028)  time: 0.3412  data: 0.0092  max mem: 4493\n",
            "Epoch: [9]  [1400/1500]  eta: 0:00:35  lr: 0.000005  loss: 0.4247 (0.4377)  loss_classifier: 0.0927 (0.1099)  loss_box_reg: 0.1145 (0.1474)  loss_objectness: 0.0892 (0.0783)  loss_rpn_box_reg: 0.1130 (0.1022)  time: 0.3530  data: 0.0106  max mem: 4493\n",
            "Epoch: [9]  [1499/1500]  eta: 0:00:00  lr: 0.000005  loss: 0.3526 (0.4361)  loss_classifier: 0.0922 (0.1100)  loss_box_reg: 0.1032 (0.1474)  loss_objectness: 0.0556 (0.0781)  loss_rpn_box_reg: 0.0338 (0.1006)  time: 0.3485  data: 0.0103  max mem: 4493\n",
            "Epoch: [9] Total time: 0:08:46 (0.3512 s / it)\n",
            "creating index...\n",
            "index created!\n",
            "Test:  [  0/500]  eta: 0:02:45  model_time: 0.0826 (0.0826)  evaluator_time: 0.0052 (0.0052)  time: 0.3310  data: 0.2416  max mem: 4493\n",
            "Test:  [100/500]  eta: 0:00:21  model_time: 0.0388 (0.0385)  evaluator_time: 0.0012 (0.0056)  time: 0.0509  data: 0.0048  max mem: 4493\n",
            "Test:  [200/500]  eta: 0:00:17  model_time: 0.0415 (0.0391)  evaluator_time: 0.0027 (0.0070)  time: 0.0647  data: 0.0060  max mem: 4493\n",
            "Test:  [300/500]  eta: 0:00:10  model_time: 0.0367 (0.0387)  evaluator_time: 0.0037 (0.0063)  time: 0.0555  data: 0.0050  max mem: 4493\n",
            "Test:  [400/500]  eta: 0:00:05  model_time: 0.0399 (0.0387)  evaluator_time: 0.0017 (0.0062)  time: 0.0514  data: 0.0045  max mem: 4493\n",
            "Test:  [499/500]  eta: 0:00:00  model_time: 0.0405 (0.0391)  evaluator_time: 0.0026 (0.0069)  time: 0.0596  data: 0.0058  max mem: 4493\n",
            "Test: Total time: 0:00:27 (0.0554 s / it)\n",
            "Averaged stats: model_time: 0.0405 (0.0391)  evaluator_time: 0.0026 (0.0069)\n",
            "Accumulating evaluation results...\n",
            "DONE (t=0.24s).\n",
            "IoU metric: bbox\n",
            " Average Precision  (AP) @[ IoU=0.50:0.95 | area=   all | maxDets=100 ] = 0.245\n",
            " Average Precision  (AP) @[ IoU=0.50      | area=   all | maxDets=100 ] = 0.551\n",
            " Average Precision  (AP) @[ IoU=0.75      | area=   all | maxDets=100 ] = 0.202\n",
            " Average Precision  (AP) @[ IoU=0.50:0.95 | area= small | maxDets=100 ] = 0.034\n",
            " Average Precision  (AP) @[ IoU=0.50:0.95 | area=medium | maxDets=100 ] = 0.253\n",
            " Average Precision  (AP) @[ IoU=0.50:0.95 | area= large | maxDets=100 ] = 0.413\n",
            " Average Recall     (AR) @[ IoU=0.50:0.95 | area=   all | maxDets=  1 ] = 0.116\n",
            " Average Recall     (AR) @[ IoU=0.50:0.95 | area=   all | maxDets= 10 ] = 0.289\n",
            " Average Recall     (AR) @[ IoU=0.50:0.95 | area=   all | maxDets=100 ] = 0.338\n",
            " Average Recall     (AR) @[ IoU=0.50:0.95 | area= small | maxDets=100 ] = 0.115\n",
            " Average Recall     (AR) @[ IoU=0.50:0.95 | area=medium | maxDets=100 ] = 0.348\n",
            " Average Recall     (AR) @[ IoU=0.50:0.95 | area= large | maxDets=100 ] = 0.527\n",
            "That's it!\n"
          ]
        }
      ]
    },
    {
      "cell_type": "markdown",
      "source": [
        "## Save Model"
      ],
      "metadata": {
        "id": "D-uatcPzsGFg"
      }
    },
    {
      "cell_type": "code",
      "source": [
        "torch.save(googlenet_model.state_dict(), save_dir + \"/googlenet_ep10.pt\")"
      ],
      "metadata": {
        "trusted": true,
        "id": "QfocYFSF8uK6"
      },
      "execution_count": null,
      "outputs": []
    },
    {
      "cell_type": "code",
      "source": [
        "def convert_torch_predictions(preds, det_id, s_id, w, h, classes):\n",
        "    # Convert the outputs of the torch model into a FiftyOne Detections object\n",
        "    dets = []\n",
        "    for bbox, label, score in zip(\n",
        "        preds[\"boxes\"].cpu().detach().numpy(), \n",
        "        preds[\"labels\"].cpu().detach().numpy(), \n",
        "        preds[\"scores\"].cpu().detach().numpy()\n",
        "    ):\n",
        "        # Parse prediction into FiftyOne Detection object\n",
        "        x0,y0,x1,y1 = bbox\n",
        "        coco_obj = fouc.COCOObject(det_id, s_id, int(label), [x0, y0, x1-x0, y1-y0])\n",
        "        det = coco_obj.to_detection((w,h), classes)\n",
        "        det[\"confidence\"] = float(score)\n",
        "        dets.append(det)\n",
        "        det_id += 1\n",
        "        \n",
        "    detections = fo.Detections(detections=dets)\n",
        "        \n",
        "    return detections, det_id\n",
        "\n",
        "def add_detections(model, torch_dataset, view, field_name=\"predictions\"):\n",
        "    # Run inference on a dataset and add results to FiftyOne\n",
        "    torch.set_num_threads(1)\n",
        "    device = torch.device('cuda') if torch.cuda.is_available() else torch.device('cpu')\n",
        "    print(\"Using device %s\" % device)\n",
        "\n",
        "    model.eval()\n",
        "    model.to(device)\n",
        "    image_paths = torch_dataset.img_paths\n",
        "    classes = torch_dataset.classes\n",
        "    det_id = 0\n",
        "    \n",
        "    with fo.ProgressBar() as pb:\n",
        "        for img, targets in pb(torch_dataset):\n",
        "            # Get FiftyOne sample indexed by unique image filepath\n",
        "            img_id = int(targets[\"image_id\"][0])\n",
        "            img_path = image_paths[img_id]\n",
        "            sample = view[img_path]\n",
        "            s_id = sample.id\n",
        "            w = sample.metadata[\"width\"]\n",
        "            h = sample.metadata[\"height\"]\n",
        "            \n",
        "            # Inference\n",
        "            preds = model(img.unsqueeze(0).to(device))[0]\n",
        "            \n",
        "            detections, det_id = convert_torch_predictions(\n",
        "                preds, \n",
        "                det_id, \n",
        "                s_id, \n",
        "                w, \n",
        "                h, \n",
        "                classes,\n",
        "            )\n",
        "            \n",
        "            sample[field_name] = detections\n",
        "            sample.save()"
      ],
      "metadata": {
        "id": "IiXK6ce_8uK8"
      },
      "execution_count": null,
      "outputs": []
    },
    {
      "cell_type": "code",
      "source": [
        "add_detections(googlenet_model, test_data, test_dataset, field_name=\"predictions\")"
      ],
      "metadata": {
        "id": "Uwr8F-rYFFAl",
        "colab": {
          "base_uri": "https://localhost:8080/"
        },
        "outputId": "968fbcfb-eb47-46c1-8d80-27d7a687124d"
      },
      "execution_count": null,
      "outputs": [
        {
          "output_type": "stream",
          "name": "stdout",
          "text": [
            "Using device cuda\n",
            " 100% |█████████████████| 500/500 [35.7s elapsed, 0s remaining, 15.2 samples/s]      \n"
          ]
        },
        {
          "output_type": "stream",
          "name": "stderr",
          "text": [
            "INFO:eta.core.utils: 100% |█████████████████| 500/500 [35.7s elapsed, 0s remaining, 15.2 samples/s]      \n"
          ]
        }
      ]
    },
    {
      "cell_type": "code",
      "source": [
        "results = fo.evaluate_detections(\n",
        "    test_dataset, \n",
        "    \"predictions\", \n",
        "    classes=[\"person\"], \n",
        "    eval_key=\"eval\", \n",
        "    compute_mAP=True\n",
        ")"
      ],
      "metadata": {
        "id": "LMAI75E4FJMm",
        "colab": {
          "base_uri": "https://localhost:8080/"
        },
        "outputId": "70115e80-3ac5-40c0-b57f-df50f9f791b1"
      },
      "execution_count": null,
      "outputs": [
        {
          "output_type": "stream",
          "name": "stdout",
          "text": [
            "Evaluating detections...\n"
          ]
        },
        {
          "output_type": "stream",
          "name": "stderr",
          "text": [
            "INFO:fiftyone.utils.eval.detection:Evaluating detections...\n"
          ]
        },
        {
          "output_type": "stream",
          "name": "stdout",
          "text": [
            " 100% |█████████████████| 500/500 [40.3s elapsed, 0s remaining, 12.1 samples/s]      \n"
          ]
        },
        {
          "output_type": "stream",
          "name": "stderr",
          "text": [
            "INFO:eta.core.utils: 100% |█████████████████| 500/500 [40.3s elapsed, 0s remaining, 12.1 samples/s]      \n"
          ]
        },
        {
          "output_type": "stream",
          "name": "stdout",
          "text": [
            "Performing IoU sweep...\n"
          ]
        },
        {
          "output_type": "stream",
          "name": "stderr",
          "text": [
            "INFO:fiftyone.utils.eval.coco:Performing IoU sweep...\n"
          ]
        },
        {
          "output_type": "stream",
          "name": "stdout",
          "text": [
            " 100% |█████████████████| 500/500 [15.5s elapsed, 0s remaining, 37.2 samples/s]      \n"
          ]
        },
        {
          "output_type": "stream",
          "name": "stderr",
          "text": [
            "INFO:eta.core.utils: 100% |█████████████████| 500/500 [15.5s elapsed, 0s remaining, 37.2 samples/s]      \n"
          ]
        }
      ]
    },
    {
      "cell_type": "code",
      "source": [
        "results.mAP()"
      ],
      "metadata": {
        "id": "2gIh5N_MFMUY",
        "colab": {
          "base_uri": "https://localhost:8080/"
        },
        "outputId": "aaf93769-4335-443c-e0f6-1654fdf2414a"
      },
      "execution_count": null,
      "outputs": [
        {
          "output_type": "execute_result",
          "data": {
            "text/plain": [
              "0.24516742211808992"
            ]
          },
          "metadata": {},
          "execution_count": 23
        }
      ]
    },
    {
      "cell_type": "code",
      "source": [
        "results.print_report()"
      ],
      "metadata": {
        "colab": {
          "base_uri": "https://localhost:8080/"
        },
        "id": "YIWdXE3JfFIy",
        "outputId": "2f2441e0-3fae-4b9f-870a-7549ba05ffc3"
      },
      "execution_count": null,
      "outputs": [
        {
          "output_type": "stream",
          "name": "stdout",
          "text": [
            "              precision    recall  f1-score   support\n",
            "\n",
            "      person       0.37      0.86      0.52      4562\n",
            "\n",
            "   micro avg       0.37      0.86      0.52      4562\n",
            "   macro avg       0.37      0.86      0.52      4562\n",
            "weighted avg       0.37      0.86      0.52      4562\n",
            "\n"
          ]
        }
      ]
    },
    {
      "cell_type": "code",
      "source": [
        "# Export labeled dataset in COCO format\n",
        "test_dataset.export(\n",
        "    export_dir=save_dir,\n",
        "    dataset_type=fo.types.COCODetectionDataset,\n",
        "    label_field=\"predictions\",\n",
        ")"
      ],
      "metadata": {
        "colab": {
          "base_uri": "https://localhost:8080/"
        },
        "id": "L-iKrNWnfFrI",
        "outputId": "7b2706a5-7823-42c3-ecfe-0e11fbe34248"
      },
      "execution_count": null,
      "outputs": [
        {
          "output_type": "stream",
          "name": "stdout",
          "text": [
            "Directory 'GoogleNet' already exists; export will be merged with existing files\n"
          ]
        },
        {
          "output_type": "stream",
          "name": "stderr",
          "text": [
            "WARNING:fiftyone.core.collections:Directory 'GoogleNet' already exists; export will be merged with existing files\n"
          ]
        },
        {
          "output_type": "stream",
          "name": "stdout",
          "text": [
            " 100% |█████████████████| 500/500 [10.5s elapsed, 0s remaining, 46.7 samples/s]      \n"
          ]
        },
        {
          "output_type": "stream",
          "name": "stderr",
          "text": [
            "INFO:eta.core.utils: 100% |█████████████████| 500/500 [10.5s elapsed, 0s remaining, 46.7 samples/s]      \n"
          ]
        }
      ]
    },
    {
      "cell_type": "code",
      "source": [],
      "metadata": {
        "id": "s2UmghQ6gkit"
      },
      "execution_count": null,
      "outputs": []
    }
  ]
}